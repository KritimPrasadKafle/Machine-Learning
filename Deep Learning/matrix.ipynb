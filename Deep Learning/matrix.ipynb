{
 "cells": [
  {
   "cell_type": "code",
   "execution_count": 1,
   "id": "5c937aff-b732-443c-b1e5-1da837536511",
   "metadata": {},
   "outputs": [],
   "source": [
    "import numpy as np"
   ]
  },
  {
   "cell_type": "code",
   "execution_count": 2,
   "id": "1379d766-7dd6-4bec-a7db-347e0b4cf495",
   "metadata": {},
   "outputs": [],
   "source": [
    "revenue = np.array([[80,200,220],[24,36,40],[12,18,20]])\n",
    "expenses = np.array([[80,90,100],[10,16,0],[8,10,10]])"
   ]
  },
  {
   "cell_type": "code",
   "execution_count": 3,
   "id": "58cd4a21-09be-42c9-8cb4-a0a9257194ed",
   "metadata": {},
   "outputs": [
    {
     "data": {
      "text/plain": [
       "array([[  0, 110, 120],\n",
       "       [ 14,  20,  40],\n",
       "       [  4,   8,  10]])"
      ]
     },
     "execution_count": 3,
     "metadata": {},
     "output_type": "execute_result"
    }
   ],
   "source": [
    "profit = revenue - expenses\n",
    "profit"
   ]
  },
  {
   "cell_type": "code",
   "execution_count": 4,
   "id": "e8334c46-ed37-4ce9-b239-86d8b7346697",
   "metadata": {},
   "outputs": [],
   "source": [
    "price_per_unit = np.array([1000,400,1200])\n",
    "units = np.array([[30,40,50],[5,10,15],[2,5,7]])"
   ]
  },
  {
   "cell_type": "code",
   "execution_count": 5,
   "id": "b968e117-9fb9-4f68-be71-a4af84fdfaa0",
   "metadata": {},
   "outputs": [
    {
     "data": {
      "text/plain": [
       "array([34400, 50000, 64400])"
      ]
     },
     "execution_count": 5,
     "metadata": {},
     "output_type": "execute_result"
    }
   ],
   "source": [
    "np.dot(price_per_unit, units)"
   ]
  },
  {
   "cell_type": "code",
   "execution_count": null,
   "id": "3c35790a-eb94-45af-8268-b7188918fdbf",
   "metadata": {},
   "outputs": [],
   "source": []
  }
 ],
 "metadata": {
  "kernelspec": {
   "display_name": "Python 3 (ipykernel)",
   "language": "python",
   "name": "python3"
  },
  "language_info": {
   "codemirror_mode": {
    "name": "ipython",
    "version": 3
   },
   "file_extension": ".py",
   "mimetype": "text/x-python",
   "name": "python",
   "nbconvert_exporter": "python",
   "pygments_lexer": "ipython3",
   "version": "3.12.7"
  }
 },
 "nbformat": 4,
 "nbformat_minor": 5
}
