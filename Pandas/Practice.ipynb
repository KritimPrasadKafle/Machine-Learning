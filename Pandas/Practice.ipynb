{
 "cells": [
  {
   "cell_type": "code",
   "execution_count": null,
   "id": "1863be5b",
   "metadata": {},
   "outputs": [],
   "source": [
    "#Importing Pandas"
   ]
  },
  {
   "cell_type": "code",
   "execution_count": 1,
   "id": "03a3ee6b",
   "metadata": {},
   "outputs": [],
   "source": [
    "import pandas as pd"
   ]
  },
  {
   "cell_type": "code",
   "execution_count": null,
   "id": "e424e8b1",
   "metadata": {},
   "outputs": [],
   "source": [
    "# Creating a Series\n",
    "# A Series is like a column in a table, but it has an index automatically assigned.\n",
    "\n"
   ]
  },
  {
   "cell_type": "code",
   "execution_count": 5,
   "id": "7fb6fb10",
   "metadata": {},
   "outputs": [
    {
     "data": {
      "text/plain": [
       "0    1\n",
       "1    2\n",
       "2    3\n",
       "3    4\n",
       "4    5\n",
       "dtype: int64"
      ]
     },
     "execution_count": 5,
     "metadata": {},
     "output_type": "execute_result"
    }
   ],
   "source": [
    "df = [1,2,3,4,5]\n",
    "series = pd.Series(df)\n",
    "series"
   ]
  },
  {
   "cell_type": "code",
   "execution_count": null,
   "id": "e54c33cd",
   "metadata": {},
   "outputs": [],
   "source": [
    "# Creating a DataFrame\n",
    "# A DataFrame is a table with rows and columns, similar to an Excel sheet.\n",
    "\n"
   ]
  },
  {
   "cell_type": "code",
   "execution_count": 9,
   "id": "82620e8c",
   "metadata": {
    "scrolled": true
   },
   "outputs": [
    {
     "data": {
      "text/html": [
       "<div>\n",
       "<style scoped>\n",
       "    .dataframe tbody tr th:only-of-type {\n",
       "        vertical-align: middle;\n",
       "    }\n",
       "\n",
       "    .dataframe tbody tr th {\n",
       "        vertical-align: top;\n",
       "    }\n",
       "\n",
       "    .dataframe thead th {\n",
       "        text-align: right;\n",
       "    }\n",
       "</style>\n",
       "<table border=\"1\" class=\"dataframe\">\n",
       "  <thead>\n",
       "    <tr style=\"text-align: right;\">\n",
       "      <th></th>\n",
       "      <th>Weather</th>\n",
       "      <th>Days</th>\n",
       "    </tr>\n",
       "  </thead>\n",
       "  <tbody>\n",
       "    <tr>\n",
       "      <th>0</th>\n",
       "      <td>Humidity</td>\n",
       "      <td>2024/03/14</td>\n",
       "    </tr>\n",
       "    <tr>\n",
       "      <th>1</th>\n",
       "      <td>Rainy</td>\n",
       "      <td>2025/09/23</td>\n",
       "    </tr>\n",
       "    <tr>\n",
       "      <th>2</th>\n",
       "      <td>Sunny</td>\n",
       "      <td>2034/08/12</td>\n",
       "    </tr>\n",
       "  </tbody>\n",
       "</table>\n",
       "</div>"
      ],
      "text/plain": [
       "    Weather        Days\n",
       "0  Humidity  2024/03/14\n",
       "1     Rainy  2025/09/23\n",
       "2     Sunny  2034/08/12"
      ]
     },
     "execution_count": 9,
     "metadata": {},
     "output_type": "execute_result"
    }
   ],
   "source": [
    "df1 = {\n",
    "    \n",
    "        \"Weather\": ['Humidity', \"Rainy\", \"Sunny\"],\n",
    "        \"Days\": [\"2024/03/14\",\"2025/09/23\", \"2034/08/12\"],\n",
    "    \n",
    "}\n",
    "df2 = pd.DataFrame(df1)\n",
    "df2"
   ]
  },
  {
   "cell_type": "code",
   "execution_count": null,
   "id": "819ad5e3",
   "metadata": {},
   "outputs": [],
   "source": [
    "# Selecting Columns"
   ]
  },
  {
   "cell_type": "code",
   "execution_count": 12,
   "id": "cc0850a0",
   "metadata": {
    "scrolled": true
   },
   "outputs": [
    {
     "data": {
      "text/plain": [
       "['Humidity', 'Rainy', 'Sunny']"
      ]
     },
     "execution_count": 12,
     "metadata": {},
     "output_type": "execute_result"
    }
   ],
   "source": [
    "df1['Weather']"
   ]
  },
  {
   "cell_type": "code",
   "execution_count": 13,
   "id": "3caa20df",
   "metadata": {
    "scrolled": true
   },
   "outputs": [
    {
     "data": {
      "text/plain": [
       "0    Humidity\n",
       "1       Rainy\n",
       "2       Sunny\n",
       "Name: Weather, dtype: object"
      ]
     },
     "execution_count": 13,
     "metadata": {},
     "output_type": "execute_result"
    }
   ],
   "source": [
    "df2['Weather']"
   ]
  },
  {
   "cell_type": "code",
   "execution_count": null,
   "id": "0d5cce5b",
   "metadata": {},
   "outputs": [],
   "source": [
    "# Or multiple columns:"
   ]
  },
  {
   "cell_type": "code",
   "execution_count": 18,
   "id": "1a159666",
   "metadata": {},
   "outputs": [
    {
     "data": {
      "text/html": [
       "<div>\n",
       "<style scoped>\n",
       "    .dataframe tbody tr th:only-of-type {\n",
       "        vertical-align: middle;\n",
       "    }\n",
       "\n",
       "    .dataframe tbody tr th {\n",
       "        vertical-align: top;\n",
       "    }\n",
       "\n",
       "    .dataframe thead th {\n",
       "        text-align: right;\n",
       "    }\n",
       "</style>\n",
       "<table border=\"1\" class=\"dataframe\">\n",
       "  <thead>\n",
       "    <tr style=\"text-align: right;\">\n",
       "      <th></th>\n",
       "      <th>Weather</th>\n",
       "      <th>Days</th>\n",
       "    </tr>\n",
       "  </thead>\n",
       "  <tbody>\n",
       "    <tr>\n",
       "      <th>0</th>\n",
       "      <td>Humidity</td>\n",
       "      <td>2024/03/14</td>\n",
       "    </tr>\n",
       "    <tr>\n",
       "      <th>1</th>\n",
       "      <td>Rainy</td>\n",
       "      <td>2025/09/23</td>\n",
       "    </tr>\n",
       "    <tr>\n",
       "      <th>2</th>\n",
       "      <td>Sunny</td>\n",
       "      <td>2034/08/12</td>\n",
       "    </tr>\n",
       "  </tbody>\n",
       "</table>\n",
       "</div>"
      ],
      "text/plain": [
       "    Weather        Days\n",
       "0  Humidity  2024/03/14\n",
       "1     Rainy  2025/09/23\n",
       "2     Sunny  2034/08/12"
      ]
     },
     "execution_count": 18,
     "metadata": {},
     "output_type": "execute_result"
    }
   ],
   "source": [
    "df2[['Weather', 'Days']]"
   ]
  },
  {
   "cell_type": "code",
   "execution_count": null,
   "id": "3f85c033",
   "metadata": {},
   "outputs": [],
   "source": [
    "# Selecting Rows using .loc[] (Label-based indexing)"
   ]
  },
  {
   "cell_type": "code",
   "execution_count": 19,
   "id": "0b6d5521",
   "metadata": {},
   "outputs": [
    {
     "data": {
      "text/plain": [
       "Weather      Humidity\n",
       "Days       2024/03/14\n",
       "Name: 0, dtype: object"
      ]
     },
     "execution_count": 19,
     "metadata": {},
     "output_type": "execute_result"
    }
   ],
   "source": [
    "df2.loc[0]"
   ]
  },
  {
   "cell_type": "code",
   "execution_count": 20,
   "id": "d0a1b86e",
   "metadata": {},
   "outputs": [
    {
     "data": {
      "text/html": [
       "<div>\n",
       "<style scoped>\n",
       "    .dataframe tbody tr th:only-of-type {\n",
       "        vertical-align: middle;\n",
       "    }\n",
       "\n",
       "    .dataframe tbody tr th {\n",
       "        vertical-align: top;\n",
       "    }\n",
       "\n",
       "    .dataframe thead th {\n",
       "        text-align: right;\n",
       "    }\n",
       "</style>\n",
       "<table border=\"1\" class=\"dataframe\">\n",
       "  <thead>\n",
       "    <tr style=\"text-align: right;\">\n",
       "      <th></th>\n",
       "      <th>Weather</th>\n",
       "      <th>Days</th>\n",
       "    </tr>\n",
       "  </thead>\n",
       "  <tbody>\n",
       "    <tr>\n",
       "      <th>0</th>\n",
       "      <td>Humidity</td>\n",
       "      <td>2024/03/14</td>\n",
       "    </tr>\n",
       "    <tr>\n",
       "      <th>1</th>\n",
       "      <td>Rainy</td>\n",
       "      <td>2025/09/23</td>\n",
       "    </tr>\n",
       "  </tbody>\n",
       "</table>\n",
       "</div>"
      ],
      "text/plain": [
       "    Weather        Days\n",
       "0  Humidity  2024/03/14\n",
       "1     Rainy  2025/09/23"
      ]
     },
     "execution_count": 20,
     "metadata": {},
     "output_type": "execute_result"
    }
   ],
   "source": [
    "df2.loc[0:1]"
   ]
  },
  {
   "cell_type": "code",
   "execution_count": null,
   "id": "8ed4a21c",
   "metadata": {},
   "outputs": [],
   "source": [
    "# Selecting Rows using .iloc[] (Position-based indexing)"
   ]
  },
  {
   "cell_type": "code",
   "execution_count": 21,
   "id": "21abda9a",
   "metadata": {},
   "outputs": [
    {
     "data": {
      "text/plain": [
       "Weather      Humidity\n",
       "Days       2024/03/14\n",
       "Name: 0, dtype: object"
      ]
     },
     "execution_count": 21,
     "metadata": {},
     "output_type": "execute_result"
    }
   ],
   "source": [
    "df2.iloc[0]"
   ]
  },
  {
   "cell_type": "code",
   "execution_count": 22,
   "id": "bd45ad27",
   "metadata": {
    "scrolled": true
   },
   "outputs": [
    {
     "data": {
      "text/plain": [
       "['__class__',\n",
       " '__class_getitem__',\n",
       " '__contains__',\n",
       " '__delattr__',\n",
       " '__delitem__',\n",
       " '__dir__',\n",
       " '__doc__',\n",
       " '__eq__',\n",
       " '__format__',\n",
       " '__ge__',\n",
       " '__getattribute__',\n",
       " '__getitem__',\n",
       " '__gt__',\n",
       " '__hash__',\n",
       " '__init__',\n",
       " '__init_subclass__',\n",
       " '__ior__',\n",
       " '__iter__',\n",
       " '__le__',\n",
       " '__len__',\n",
       " '__lt__',\n",
       " '__ne__',\n",
       " '__new__',\n",
       " '__or__',\n",
       " '__reduce__',\n",
       " '__reduce_ex__',\n",
       " '__repr__',\n",
       " '__reversed__',\n",
       " '__ror__',\n",
       " '__setattr__',\n",
       " '__setitem__',\n",
       " '__sizeof__',\n",
       " '__str__',\n",
       " '__subclasshook__',\n",
       " 'clear',\n",
       " 'copy',\n",
       " 'fromkeys',\n",
       " 'get',\n",
       " 'items',\n",
       " 'keys',\n",
       " 'pop',\n",
       " 'popitem',\n",
       " 'setdefault',\n",
       " 'update',\n",
       " 'values']"
      ]
     },
     "execution_count": 22,
     "metadata": {},
     "output_type": "execute_result"
    }
   ],
   "source": [
    "dir(df1)"
   ]
  },
  {
   "cell_type": "code",
   "execution_count": null,
   "id": "4105aae6",
   "metadata": {},
   "outputs": [],
   "source": [
    "# Filtering Data (Applying Conditions)"
   ]
  },
  {
   "cell_type": "code",
   "execution_count": 44,
   "id": "9075e2de",
   "metadata": {},
   "outputs": [
    {
     "data": {
      "text/html": [
       "<div>\n",
       "<style scoped>\n",
       "    .dataframe tbody tr th:only-of-type {\n",
       "        vertical-align: middle;\n",
       "    }\n",
       "\n",
       "    .dataframe tbody tr th {\n",
       "        vertical-align: top;\n",
       "    }\n",
       "\n",
       "    .dataframe thead th {\n",
       "        text-align: right;\n",
       "    }\n",
       "</style>\n",
       "<table border=\"1\" class=\"dataframe\">\n",
       "  <thead>\n",
       "    <tr style=\"text-align: right;\">\n",
       "      <th></th>\n",
       "      <th>Name</th>\n",
       "      <th>Age</th>\n",
       "      <th>Address</th>\n",
       "      <th>Salary</th>\n",
       "    </tr>\n",
       "  </thead>\n",
       "  <tbody>\n",
       "    <tr>\n",
       "      <th>0</th>\n",
       "      <td>Kritim</td>\n",
       "      <td>25</td>\n",
       "      <td>Hetauda</td>\n",
       "      <td>20000</td>\n",
       "    </tr>\n",
       "    <tr>\n",
       "      <th>1</th>\n",
       "      <td>Prasad</td>\n",
       "      <td>30</td>\n",
       "      <td>Ktm</td>\n",
       "      <td>30000</td>\n",
       "    </tr>\n",
       "    <tr>\n",
       "      <th>2</th>\n",
       "      <td>Kafle</td>\n",
       "      <td>9</td>\n",
       "      <td>Pkr</td>\n",
       "      <td>100000</td>\n",
       "    </tr>\n",
       "    <tr>\n",
       "      <th>3</th>\n",
       "      <td>Ram</td>\n",
       "      <td>14</td>\n",
       "      <td>Sim</td>\n",
       "      <td>80000</td>\n",
       "    </tr>\n",
       "    <tr>\n",
       "      <th>4</th>\n",
       "      <td>Subedi</td>\n",
       "      <td>55</td>\n",
       "      <td>Btr</td>\n",
       "      <td>75000</td>\n",
       "    </tr>\n",
       "  </tbody>\n",
       "</table>\n",
       "</div>"
      ],
      "text/plain": [
       "     Name  Age  Address  Salary\n",
       "0  Kritim   25  Hetauda   20000\n",
       "1  Prasad   30      Ktm   30000\n",
       "2   Kafle    9      Pkr  100000\n",
       "3     Ram   14      Sim   80000\n",
       "4  Subedi   55      Btr   75000"
      ]
     },
     "execution_count": 44,
     "metadata": {},
     "output_type": "execute_result"
    }
   ],
   "source": [
    "df3 = {\n",
    "    \"Name\": [\"Kritim\", \"Prasad\", \"Kafle\", \"Ram\", \"Subedi\"],\n",
    "    \"Age\": [25,30,9,14,55],\n",
    "    \"Address\": [\"Hetauda\", \"Ktm\", \"Pkr\", \"Sim\", \"Btr\"],\n",
    "    \"Salary\": [20000, 30000, 100000, 80000, 75000]\n",
    "}\n",
    "df4 = pd.DataFrame(df3)\n",
    "df4"
   ]
  },
  {
   "cell_type": "code",
   "execution_count": null,
   "id": "4dfdc9e7",
   "metadata": {},
   "outputs": [],
   "source": []
  },
  {
   "cell_type": "code",
   "execution_count": 45,
   "id": "0a2fb3e4",
   "metadata": {
    "scrolled": true
   },
   "outputs": [
    {
     "data": {
      "text/html": [
       "<div>\n",
       "<style scoped>\n",
       "    .dataframe tbody tr th:only-of-type {\n",
       "        vertical-align: middle;\n",
       "    }\n",
       "\n",
       "    .dataframe tbody tr th {\n",
       "        vertical-align: top;\n",
       "    }\n",
       "\n",
       "    .dataframe thead th {\n",
       "        text-align: right;\n",
       "    }\n",
       "</style>\n",
       "<table border=\"1\" class=\"dataframe\">\n",
       "  <thead>\n",
       "    <tr style=\"text-align: right;\">\n",
       "      <th></th>\n",
       "      <th>Name</th>\n",
       "      <th>Age</th>\n",
       "      <th>Address</th>\n",
       "      <th>Salary</th>\n",
       "    </tr>\n",
       "  </thead>\n",
       "  <tbody>\n",
       "    <tr>\n",
       "      <th>0</th>\n",
       "      <td>Kritim</td>\n",
       "      <td>25</td>\n",
       "      <td>Hetauda</td>\n",
       "      <td>20000</td>\n",
       "    </tr>\n",
       "    <tr>\n",
       "      <th>1</th>\n",
       "      <td>Prasad</td>\n",
       "      <td>30</td>\n",
       "      <td>Ktm</td>\n",
       "      <td>30000</td>\n",
       "    </tr>\n",
       "    <tr>\n",
       "      <th>4</th>\n",
       "      <td>Subedi</td>\n",
       "      <td>55</td>\n",
       "      <td>Btr</td>\n",
       "      <td>75000</td>\n",
       "    </tr>\n",
       "  </tbody>\n",
       "</table>\n",
       "</div>"
      ],
      "text/plain": [
       "     Name  Age  Address  Salary\n",
       "0  Kritim   25  Hetauda   20000\n",
       "1  Prasad   30      Ktm   30000\n",
       "4  Subedi   55      Btr   75000"
      ]
     },
     "execution_count": 45,
     "metadata": {},
     "output_type": "execute_result"
    }
   ],
   "source": [
    "age = df4[df4['Age']>24]\n",
    "age"
   ]
  },
  {
   "cell_type": "code",
   "execution_count": 46,
   "id": "6a7a83be",
   "metadata": {},
   "outputs": [
    {
     "name": "stdout",
     "output_type": "stream",
     "text": [
      "Name       object\n",
      "Age         int64\n",
      "Address    object\n",
      "Salary      int64\n",
      "dtype: object\n"
     ]
    }
   ],
   "source": [
    "# df4['Age'].types\n",
    "print(df4.dtypes)\n",
    "# dir(df4)"
   ]
  },
  {
   "cell_type": "code",
   "execution_count": null,
   "id": "f7e58e98",
   "metadata": {},
   "outputs": [],
   "source": [
    "# Multiple conditions:"
   ]
  },
  {
   "cell_type": "code",
   "execution_count": 47,
   "id": "35f38063",
   "metadata": {
    "scrolled": true
   },
   "outputs": [
    {
     "data": {
      "text/html": [
       "<div>\n",
       "<style scoped>\n",
       "    .dataframe tbody tr th:only-of-type {\n",
       "        vertical-align: middle;\n",
       "    }\n",
       "\n",
       "    .dataframe tbody tr th {\n",
       "        vertical-align: top;\n",
       "    }\n",
       "\n",
       "    .dataframe thead th {\n",
       "        text-align: right;\n",
       "    }\n",
       "</style>\n",
       "<table border=\"1\" class=\"dataframe\">\n",
       "  <thead>\n",
       "    <tr style=\"text-align: right;\">\n",
       "      <th></th>\n",
       "      <th>Name</th>\n",
       "      <th>Age</th>\n",
       "      <th>Address</th>\n",
       "      <th>Salary</th>\n",
       "    </tr>\n",
       "  </thead>\n",
       "  <tbody>\n",
       "    <tr>\n",
       "      <th>1</th>\n",
       "      <td>Prasad</td>\n",
       "      <td>30</td>\n",
       "      <td>Ktm</td>\n",
       "      <td>30000</td>\n",
       "    </tr>\n",
       "    <tr>\n",
       "      <th>4</th>\n",
       "      <td>Subedi</td>\n",
       "      <td>55</td>\n",
       "      <td>Btr</td>\n",
       "      <td>75000</td>\n",
       "    </tr>\n",
       "  </tbody>\n",
       "</table>\n",
       "</div>"
      ],
      "text/plain": [
       "     Name  Age Address  Salary\n",
       "1  Prasad   30     Ktm   30000\n",
       "4  Subedi   55     Btr   75000"
      ]
     },
     "execution_count": 47,
     "metadata": {},
     "output_type": "execute_result"
    }
   ],
   "source": [
    "ageWithSalary = df4[(df4['Age'] > 25) & (df4['Salary'] > 20000)]\n",
    "ageWithSalary"
   ]
  },
  {
   "cell_type": "code",
   "execution_count": 51,
   "id": "b9f127f6",
   "metadata": {
    "scrolled": true
   },
   "outputs": [
    {
     "name": "stdout",
     "output_type": "stream",
     "text": [
      "Original DataFrame:\n",
      "      Name  Age   Salary Department\n",
      "0    Alice   25  50000.0         HR\n",
      "1      Bob   30  60000.0         IT\n",
      "2  Charlie  NaN  70000.0    Finance\n",
      "3    David   35      NaN         IT\n",
      "4      Eve   40  90000.0         HR\n",
      "5    Alice   25  50000.0         HR\n",
      "6    Alice   25  50000.0         HR\n"
     ]
    },
    {
     "name": "stderr",
     "output_type": "stream",
     "text": [
      "C:\\Users\\User\\AppData\\Local\\Temp\\ipykernel_114412\\2643837284.py:15: FutureWarning: The frame.append method is deprecated and will be removed from pandas in a future version. Use pandas.concat instead.\n",
      "  df4 = df4.append(df4.iloc[0], ignore_index=True)\n"
     ]
    }
   ],
   "source": [
    "import pandas as pd\n",
    "import numpy as np\n",
    "\n",
    "# Creating a sample dataset\n",
    "data = {\n",
    "    'Name': ['Alice', 'Bob', 'Charlie', 'David', 'Eve', 'Alice'],\n",
    "    'Age': ['25', '30', np.nan, '35', '40', '25'],  # Age as string + missing value\n",
    "    'Salary': [50000, 60000, 70000, np.nan, 90000, 50000],  # Missing value in Salary\n",
    "    'Department': ['HR', 'IT', 'Finance', 'IT', 'HR', 'HR']\n",
    "}\n",
    "\n",
    "df4 = pd.DataFrame(data)\n",
    "\n",
    "# Introduce a duplicate row\n",
    "df4 = df4.append(df4.iloc[0], ignore_index=True)\n",
    "df4.set_index('Age')\n",
    "\n",
    "print(\"Original DataFrame:\")\n",
    "print(df4)\n"
   ]
  },
  {
   "cell_type": "code",
   "execution_count": null,
   "id": "e390e956",
   "metadata": {},
   "outputs": [],
   "source": [
    "# Convert the columns to numeric types before performing the comparison"
   ]
  },
  {
   "cell_type": "code",
   "execution_count": 52,
   "id": "00fb3e12",
   "metadata": {},
   "outputs": [],
   "source": [
    "df4['Age'] = pd.to_numeric(df4['Age'], errors='coerce')"
   ]
  },
  {
   "cell_type": "code",
   "execution_count": 54,
   "id": "fbbefdd8",
   "metadata": {},
   "outputs": [
    {
     "data": {
      "text/html": [
       "<div>\n",
       "<style scoped>\n",
       "    .dataframe tbody tr th:only-of-type {\n",
       "        vertical-align: middle;\n",
       "    }\n",
       "\n",
       "    .dataframe tbody tr th {\n",
       "        vertical-align: top;\n",
       "    }\n",
       "\n",
       "    .dataframe thead th {\n",
       "        text-align: right;\n",
       "    }\n",
       "</style>\n",
       "<table border=\"1\" class=\"dataframe\">\n",
       "  <thead>\n",
       "    <tr style=\"text-align: right;\">\n",
       "      <th></th>\n",
       "      <th>Name</th>\n",
       "      <th>Age</th>\n",
       "      <th>Salary</th>\n",
       "      <th>Department</th>\n",
       "    </tr>\n",
       "  </thead>\n",
       "  <tbody>\n",
       "    <tr>\n",
       "      <th>0</th>\n",
       "      <td>Alice</td>\n",
       "      <td>25.0</td>\n",
       "      <td>50000.0</td>\n",
       "      <td>HR</td>\n",
       "    </tr>\n",
       "    <tr>\n",
       "      <th>1</th>\n",
       "      <td>Bob</td>\n",
       "      <td>30.0</td>\n",
       "      <td>60000.0</td>\n",
       "      <td>IT</td>\n",
       "    </tr>\n",
       "    <tr>\n",
       "      <th>2</th>\n",
       "      <td>Charlie</td>\n",
       "      <td>NaN</td>\n",
       "      <td>70000.0</td>\n",
       "      <td>Finance</td>\n",
       "    </tr>\n",
       "    <tr>\n",
       "      <th>3</th>\n",
       "      <td>David</td>\n",
       "      <td>35.0</td>\n",
       "      <td>NaN</td>\n",
       "      <td>IT</td>\n",
       "    </tr>\n",
       "    <tr>\n",
       "      <th>4</th>\n",
       "      <td>Eve</td>\n",
       "      <td>40.0</td>\n",
       "      <td>90000.0</td>\n",
       "      <td>HR</td>\n",
       "    </tr>\n",
       "    <tr>\n",
       "      <th>5</th>\n",
       "      <td>Alice</td>\n",
       "      <td>25.0</td>\n",
       "      <td>50000.0</td>\n",
       "      <td>HR</td>\n",
       "    </tr>\n",
       "    <tr>\n",
       "      <th>6</th>\n",
       "      <td>Alice</td>\n",
       "      <td>25.0</td>\n",
       "      <td>50000.0</td>\n",
       "      <td>HR</td>\n",
       "    </tr>\n",
       "  </tbody>\n",
       "</table>\n",
       "</div>"
      ],
      "text/plain": [
       "      Name   Age   Salary Department\n",
       "0    Alice  25.0  50000.0         HR\n",
       "1      Bob  30.0  60000.0         IT\n",
       "2  Charlie   NaN  70000.0    Finance\n",
       "3    David  35.0      NaN         IT\n",
       "4      Eve  40.0  90000.0         HR\n",
       "5    Alice  25.0  50000.0         HR\n",
       "6    Alice  25.0  50000.0         HR"
      ]
     },
     "execution_count": 54,
     "metadata": {},
     "output_type": "execute_result"
    }
   ],
   "source": [
    "df4"
   ]
  },
  {
   "cell_type": "code",
   "execution_count": 55,
   "id": "d6a082f9",
   "metadata": {
    "scrolled": true
   },
   "outputs": [
    {
     "data": {
      "text/plain": [
       "Name           object\n",
       "Age           float64\n",
       "Salary        float64\n",
       "Department     object\n",
       "dtype: object"
      ]
     },
     "execution_count": 55,
     "metadata": {},
     "output_type": "execute_result"
    }
   ],
   "source": [
    "df4.dtypes"
   ]
  },
  {
   "cell_type": "code",
   "execution_count": null,
   "id": "9424ef18",
   "metadata": {},
   "outputs": [],
   "source": [
    "# Or fill with the mean/median:"
   ]
  },
  {
   "cell_type": "code",
   "execution_count": 56,
   "id": "b431cfcf",
   "metadata": {},
   "outputs": [],
   "source": [
    "df4.fillna({'Age': df4['Age'].median(), 'Salary': df4['Salary'].mean()}, inplace = True)"
   ]
  },
  {
   "cell_type": "code",
   "execution_count": 57,
   "id": "8c4bc09e",
   "metadata": {
    "scrolled": false
   },
   "outputs": [
    {
     "data": {
      "text/html": [
       "<div>\n",
       "<style scoped>\n",
       "    .dataframe tbody tr th:only-of-type {\n",
       "        vertical-align: middle;\n",
       "    }\n",
       "\n",
       "    .dataframe tbody tr th {\n",
       "        vertical-align: top;\n",
       "    }\n",
       "\n",
       "    .dataframe thead th {\n",
       "        text-align: right;\n",
       "    }\n",
       "</style>\n",
       "<table border=\"1\" class=\"dataframe\">\n",
       "  <thead>\n",
       "    <tr style=\"text-align: right;\">\n",
       "      <th></th>\n",
       "      <th>Name</th>\n",
       "      <th>Age</th>\n",
       "      <th>Salary</th>\n",
       "      <th>Department</th>\n",
       "    </tr>\n",
       "  </thead>\n",
       "  <tbody>\n",
       "    <tr>\n",
       "      <th>0</th>\n",
       "      <td>Alice</td>\n",
       "      <td>25.0</td>\n",
       "      <td>50000.000000</td>\n",
       "      <td>HR</td>\n",
       "    </tr>\n",
       "    <tr>\n",
       "      <th>1</th>\n",
       "      <td>Bob</td>\n",
       "      <td>30.0</td>\n",
       "      <td>60000.000000</td>\n",
       "      <td>IT</td>\n",
       "    </tr>\n",
       "    <tr>\n",
       "      <th>2</th>\n",
       "      <td>Charlie</td>\n",
       "      <td>27.5</td>\n",
       "      <td>70000.000000</td>\n",
       "      <td>Finance</td>\n",
       "    </tr>\n",
       "    <tr>\n",
       "      <th>3</th>\n",
       "      <td>David</td>\n",
       "      <td>35.0</td>\n",
       "      <td>61666.666667</td>\n",
       "      <td>IT</td>\n",
       "    </tr>\n",
       "    <tr>\n",
       "      <th>4</th>\n",
       "      <td>Eve</td>\n",
       "      <td>40.0</td>\n",
       "      <td>90000.000000</td>\n",
       "      <td>HR</td>\n",
       "    </tr>\n",
       "    <tr>\n",
       "      <th>5</th>\n",
       "      <td>Alice</td>\n",
       "      <td>25.0</td>\n",
       "      <td>50000.000000</td>\n",
       "      <td>HR</td>\n",
       "    </tr>\n",
       "    <tr>\n",
       "      <th>6</th>\n",
       "      <td>Alice</td>\n",
       "      <td>25.0</td>\n",
       "      <td>50000.000000</td>\n",
       "      <td>HR</td>\n",
       "    </tr>\n",
       "  </tbody>\n",
       "</table>\n",
       "</div>"
      ],
      "text/plain": [
       "      Name   Age        Salary Department\n",
       "0    Alice  25.0  50000.000000         HR\n",
       "1      Bob  30.0  60000.000000         IT\n",
       "2  Charlie  27.5  70000.000000    Finance\n",
       "3    David  35.0  61666.666667         IT\n",
       "4      Eve  40.0  90000.000000         HR\n",
       "5    Alice  25.0  50000.000000         HR\n",
       "6    Alice  25.0  50000.000000         HR"
      ]
     },
     "execution_count": 57,
     "metadata": {},
     "output_type": "execute_result"
    }
   ],
   "source": [
    "df4"
   ]
  },
  {
   "cell_type": "code",
   "execution_count": null,
   "id": "677edfe7",
   "metadata": {},
   "outputs": [],
   "source": [
    "# Remove duplicates:"
   ]
  },
  {
   "cell_type": "code",
   "execution_count": 59,
   "id": "b8798c18",
   "metadata": {},
   "outputs": [],
   "source": [
    "df4.drop_duplicates(inplace=True)"
   ]
  },
  {
   "cell_type": "code",
   "execution_count": 60,
   "id": "d97038ac",
   "metadata": {},
   "outputs": [
    {
     "data": {
      "text/html": [
       "<div>\n",
       "<style scoped>\n",
       "    .dataframe tbody tr th:only-of-type {\n",
       "        vertical-align: middle;\n",
       "    }\n",
       "\n",
       "    .dataframe tbody tr th {\n",
       "        vertical-align: top;\n",
       "    }\n",
       "\n",
       "    .dataframe thead th {\n",
       "        text-align: right;\n",
       "    }\n",
       "</style>\n",
       "<table border=\"1\" class=\"dataframe\">\n",
       "  <thead>\n",
       "    <tr style=\"text-align: right;\">\n",
       "      <th></th>\n",
       "      <th>Name</th>\n",
       "      <th>Age</th>\n",
       "      <th>Salary</th>\n",
       "      <th>Department</th>\n",
       "    </tr>\n",
       "  </thead>\n",
       "  <tbody>\n",
       "    <tr>\n",
       "      <th>0</th>\n",
       "      <td>Alice</td>\n",
       "      <td>25.0</td>\n",
       "      <td>50000.000000</td>\n",
       "      <td>HR</td>\n",
       "    </tr>\n",
       "    <tr>\n",
       "      <th>1</th>\n",
       "      <td>Bob</td>\n",
       "      <td>30.0</td>\n",
       "      <td>60000.000000</td>\n",
       "      <td>IT</td>\n",
       "    </tr>\n",
       "    <tr>\n",
       "      <th>2</th>\n",
       "      <td>Charlie</td>\n",
       "      <td>27.5</td>\n",
       "      <td>70000.000000</td>\n",
       "      <td>Finance</td>\n",
       "    </tr>\n",
       "    <tr>\n",
       "      <th>3</th>\n",
       "      <td>David</td>\n",
       "      <td>35.0</td>\n",
       "      <td>61666.666667</td>\n",
       "      <td>IT</td>\n",
       "    </tr>\n",
       "    <tr>\n",
       "      <th>4</th>\n",
       "      <td>Eve</td>\n",
       "      <td>40.0</td>\n",
       "      <td>90000.000000</td>\n",
       "      <td>HR</td>\n",
       "    </tr>\n",
       "  </tbody>\n",
       "</table>\n",
       "</div>"
      ],
      "text/plain": [
       "      Name   Age        Salary Department\n",
       "0    Alice  25.0  50000.000000         HR\n",
       "1      Bob  30.0  60000.000000         IT\n",
       "2  Charlie  27.5  70000.000000    Finance\n",
       "3    David  35.0  61666.666667         IT\n",
       "4      Eve  40.0  90000.000000         HR"
      ]
     },
     "execution_count": 60,
     "metadata": {},
     "output_type": "execute_result"
    }
   ],
   "source": [
    "df4"
   ]
  },
  {
   "cell_type": "code",
   "execution_count": 67,
   "id": "7a282acb",
   "metadata": {
    "scrolled": true
   },
   "outputs": [
    {
     "name": "stdout",
     "output_type": "stream",
     "text": [
      "Original DataFrame:\n",
      "  Employee  Age  Salary Department  Experience\n",
      "0    Alice   25   50000         HR           2\n",
      "1      Bob   30   60000         IT           5\n",
      "2  Charlie   35   70000    Finance          10\n",
      "3    David   40   80000         IT           8\n",
      "4      Eve   45   90000         HR          15\n",
      "5    Frank   50   75000    Finance          12\n",
      "6    Grace   29   55000         IT           3\n",
      "7    Helen   33   72000      Admin           6\n"
     ]
    }
   ],
   "source": [
    "import pandas as pd\n",
    "import numpy as np\n",
    "\n",
    "# Creating a sample dataset\n",
    "data = {\n",
    "    'Employee': ['Alice', 'Bob', 'Charlie', 'David', 'Eve', 'Frank', 'Grace', 'Helen'],\n",
    "    'Age': [25, 30, 35, 40, 45, 50, 29, 33],\n",
    "    'Salary': [50000, 60000, 70000, 80000, 90000, 75000, 55000, 72000],\n",
    "    'Department': ['HR', 'IT', 'Finance', 'IT', 'HR', 'Finance', 'IT', 'Admin'],\n",
    "    'Experience': [2, 5, 10, 8, 15, 12, 3, 6]\n",
    "}\n",
    "\n",
    "df = pd.DataFrame(data)\n",
    "print(\"Original DataFrame:\")\n",
    "print(df)\n"
   ]
  },
  {
   "cell_type": "code",
   "execution_count": null,
   "id": "d6cf86d9",
   "metadata": {},
   "outputs": [],
   "source": [
    "# Grouping by Department and Calculating Average Salary"
   ]
  },
  {
   "cell_type": "code",
   "execution_count": 68,
   "id": "ea33dc2f",
   "metadata": {
    "scrolled": false
   },
   "outputs": [
    {
     "data": {
      "text/plain": [
       "Department\n",
       "Admin      72000.0\n",
       "Finance    72500.0\n",
       "HR         70000.0\n",
       "IT         65000.0\n",
       "Name: Salary, dtype: float64"
      ]
     },
     "execution_count": 68,
     "metadata": {},
     "output_type": "execute_result"
    }
   ],
   "source": [
    "grouped_salary = df.groupby('Department')['Salary'].mean()\n",
    "grouped_salary"
   ]
  },
  {
   "cell_type": "code",
   "execution_count": null,
   "id": "4b5e2877",
   "metadata": {},
   "outputs": [],
   "source": [
    "# Grouping by Department and Calculating count of Employee"
   ]
  },
  {
   "cell_type": "code",
   "execution_count": 69,
   "id": "b3c1c9b6",
   "metadata": {
    "scrolled": true
   },
   "outputs": [
    {
     "data": {
      "text/plain": [
       "Department\n",
       "Admin      1\n",
       "Finance    2\n",
       "HR         2\n",
       "IT         3\n",
       "Name: Employee, dtype: int64"
      ]
     },
     "execution_count": 69,
     "metadata": {},
     "output_type": "execute_result"
    }
   ],
   "source": [
    "grouped_count = df.groupby('Department')['Employee'].count()\n",
    "grouped_count"
   ]
  },
  {
   "cell_type": "code",
   "execution_count": null,
   "id": "ee7a6cc9",
   "metadata": {},
   "outputs": [],
   "source": [
    "# Grouping by Department and Calculating max of Experience"
   ]
  },
  {
   "cell_type": "code",
   "execution_count": 70,
   "id": "f43d6975",
   "metadata": {
    "scrolled": false
   },
   "outputs": [
    {
     "data": {
      "text/plain": [
       "Department\n",
       "Admin       6\n",
       "Finance    12\n",
       "HR         15\n",
       "IT          8\n",
       "Name: Experience, dtype: int64"
      ]
     },
     "execution_count": 70,
     "metadata": {},
     "output_type": "execute_result"
    }
   ],
   "source": [
    "grouped_experience = df.groupby('Department')['Experience'].max()\n",
    "grouped_experience"
   ]
  },
  {
   "cell_type": "code",
   "execution_count": null,
   "id": "71dc2ae5",
   "metadata": {},
   "outputs": [],
   "source": [
    "# Merging Two DataFrames"
   ]
  },
  {
   "cell_type": "code",
   "execution_count": 71,
   "id": "ea2be10d",
   "metadata": {
    "scrolled": true
   },
   "outputs": [
    {
     "data": {
      "text/html": [
       "<div>\n",
       "<style scoped>\n",
       "    .dataframe tbody tr th:only-of-type {\n",
       "        vertical-align: middle;\n",
       "    }\n",
       "\n",
       "    .dataframe tbody tr th {\n",
       "        vertical-align: top;\n",
       "    }\n",
       "\n",
       "    .dataframe thead th {\n",
       "        text-align: right;\n",
       "    }\n",
       "</style>\n",
       "<table border=\"1\" class=\"dataframe\">\n",
       "  <thead>\n",
       "    <tr style=\"text-align: right;\">\n",
       "      <th></th>\n",
       "      <th>Employee</th>\n",
       "      <th>Age</th>\n",
       "      <th>Salary</th>\n",
       "      <th>Department</th>\n",
       "      <th>Experience</th>\n",
       "      <th>Bonus</th>\n",
       "    </tr>\n",
       "  </thead>\n",
       "  <tbody>\n",
       "    <tr>\n",
       "      <th>0</th>\n",
       "      <td>Alice</td>\n",
       "      <td>25</td>\n",
       "      <td>50000</td>\n",
       "      <td>HR</td>\n",
       "      <td>2</td>\n",
       "      <td>5000.0</td>\n",
       "    </tr>\n",
       "    <tr>\n",
       "      <th>1</th>\n",
       "      <td>Bob</td>\n",
       "      <td>30</td>\n",
       "      <td>60000</td>\n",
       "      <td>IT</td>\n",
       "      <td>5</td>\n",
       "      <td>7000.0</td>\n",
       "    </tr>\n",
       "    <tr>\n",
       "      <th>2</th>\n",
       "      <td>Charlie</td>\n",
       "      <td>35</td>\n",
       "      <td>70000</td>\n",
       "      <td>Finance</td>\n",
       "      <td>10</td>\n",
       "      <td>6000.0</td>\n",
       "    </tr>\n",
       "    <tr>\n",
       "      <th>3</th>\n",
       "      <td>David</td>\n",
       "      <td>40</td>\n",
       "      <td>80000</td>\n",
       "      <td>IT</td>\n",
       "      <td>8</td>\n",
       "      <td>7000.0</td>\n",
       "    </tr>\n",
       "    <tr>\n",
       "      <th>4</th>\n",
       "      <td>Eve</td>\n",
       "      <td>45</td>\n",
       "      <td>90000</td>\n",
       "      <td>HR</td>\n",
       "      <td>15</td>\n",
       "      <td>5000.0</td>\n",
       "    </tr>\n",
       "    <tr>\n",
       "      <th>5</th>\n",
       "      <td>Frank</td>\n",
       "      <td>50</td>\n",
       "      <td>75000</td>\n",
       "      <td>Finance</td>\n",
       "      <td>12</td>\n",
       "      <td>6000.0</td>\n",
       "    </tr>\n",
       "    <tr>\n",
       "      <th>6</th>\n",
       "      <td>Grace</td>\n",
       "      <td>29</td>\n",
       "      <td>55000</td>\n",
       "      <td>IT</td>\n",
       "      <td>3</td>\n",
       "      <td>7000.0</td>\n",
       "    </tr>\n",
       "    <tr>\n",
       "      <th>7</th>\n",
       "      <td>Helen</td>\n",
       "      <td>33</td>\n",
       "      <td>72000</td>\n",
       "      <td>Admin</td>\n",
       "      <td>6</td>\n",
       "      <td>NaN</td>\n",
       "    </tr>\n",
       "  </tbody>\n",
       "</table>\n",
       "</div>"
      ],
      "text/plain": [
       "  Employee  Age  Salary Department  Experience   Bonus\n",
       "0    Alice   25   50000         HR           2  5000.0\n",
       "1      Bob   30   60000         IT           5  7000.0\n",
       "2  Charlie   35   70000    Finance          10  6000.0\n",
       "3    David   40   80000         IT           8  7000.0\n",
       "4      Eve   45   90000         HR          15  5000.0\n",
       "5    Frank   50   75000    Finance          12  6000.0\n",
       "6    Grace   29   55000         IT           3  7000.0\n",
       "7    Helen   33   72000      Admin           6     NaN"
      ]
     },
     "execution_count": 71,
     "metadata": {},
     "output_type": "execute_result"
    }
   ],
   "source": [
    "df_bonus = pd.DataFrame({\n",
    "    'Department': ['HR', 'IT', 'Finance'],\n",
    "    'Bonus': [5000, 7000, 6000]\n",
    "})\n",
    "merged_df = df.merge(df_bonus, on='Department', how='left')\n",
    "merged_df"
   ]
  },
  {
   "cell_type": "code",
   "execution_count": null,
   "id": "c136e9ea",
   "metadata": {},
   "outputs": [],
   "source": [
    "# Creating a Pivot Table"
   ]
  },
  {
   "cell_type": "code",
   "execution_count": 74,
   "id": "2ad437cf",
   "metadata": {
    "scrolled": true
   },
   "outputs": [
    {
     "data": {
      "text/html": [
       "<div>\n",
       "<style scoped>\n",
       "    .dataframe tbody tr th:only-of-type {\n",
       "        vertical-align: middle;\n",
       "    }\n",
       "\n",
       "    .dataframe tbody tr th {\n",
       "        vertical-align: top;\n",
       "    }\n",
       "\n",
       "    .dataframe thead th {\n",
       "        text-align: right;\n",
       "    }\n",
       "</style>\n",
       "<table border=\"1\" class=\"dataframe\">\n",
       "  <thead>\n",
       "    <tr style=\"text-align: right;\">\n",
       "      <th></th>\n",
       "      <th>Salary</th>\n",
       "    </tr>\n",
       "    <tr>\n",
       "      <th>Department</th>\n",
       "      <th></th>\n",
       "    </tr>\n",
       "  </thead>\n",
       "  <tbody>\n",
       "    <tr>\n",
       "      <th>Admin</th>\n",
       "      <td>72000</td>\n",
       "    </tr>\n",
       "    <tr>\n",
       "      <th>Finance</th>\n",
       "      <td>145000</td>\n",
       "    </tr>\n",
       "    <tr>\n",
       "      <th>HR</th>\n",
       "      <td>140000</td>\n",
       "    </tr>\n",
       "    <tr>\n",
       "      <th>IT</th>\n",
       "      <td>195000</td>\n",
       "    </tr>\n",
       "  </tbody>\n",
       "</table>\n",
       "</div>"
      ],
      "text/plain": [
       "            Salary\n",
       "Department        \n",
       "Admin        72000\n",
       "Finance     145000\n",
       "HR          140000\n",
       "IT          195000"
      ]
     },
     "execution_count": 74,
     "metadata": {},
     "output_type": "execute_result"
    }
   ],
   "source": [
    "pivot_salary = df.pivot_table(values='Salary', index = 'Department', aggfunc = 'sum')\n",
    "pivot_salary"
   ]
  },
  {
   "cell_type": "code",
   "execution_count": 75,
   "id": "9c8b5bba",
   "metadata": {},
   "outputs": [
    {
     "data": {
      "text/html": [
       "<div>\n",
       "<style scoped>\n",
       "    .dataframe tbody tr th:only-of-type {\n",
       "        vertical-align: middle;\n",
       "    }\n",
       "\n",
       "    .dataframe tbody tr th {\n",
       "        vertical-align: top;\n",
       "    }\n",
       "\n",
       "    .dataframe thead th {\n",
       "        text-align: right;\n",
       "    }\n",
       "</style>\n",
       "<table border=\"1\" class=\"dataframe\">\n",
       "  <thead>\n",
       "    <tr style=\"text-align: right;\">\n",
       "      <th></th>\n",
       "      <th>Age</th>\n",
       "    </tr>\n",
       "    <tr>\n",
       "      <th>Department</th>\n",
       "      <th></th>\n",
       "    </tr>\n",
       "  </thead>\n",
       "  <tbody>\n",
       "    <tr>\n",
       "      <th>Admin</th>\n",
       "      <td>33.0</td>\n",
       "    </tr>\n",
       "    <tr>\n",
       "      <th>Finance</th>\n",
       "      <td>42.5</td>\n",
       "    </tr>\n",
       "    <tr>\n",
       "      <th>HR</th>\n",
       "      <td>35.0</td>\n",
       "    </tr>\n",
       "    <tr>\n",
       "      <th>IT</th>\n",
       "      <td>33.0</td>\n",
       "    </tr>\n",
       "  </tbody>\n",
       "</table>\n",
       "</div>"
      ],
      "text/plain": [
       "             Age\n",
       "Department      \n",
       "Admin       33.0\n",
       "Finance     42.5\n",
       "HR          35.0\n",
       "IT          33.0"
      ]
     },
     "execution_count": 75,
     "metadata": {},
     "output_type": "execute_result"
    }
   ],
   "source": [
    "pivot_age = df.pivot_table(values='Age', index='Department', aggfunc='mean')\n",
    "pivot_age"
   ]
  },
  {
   "cell_type": "code",
   "execution_count": 76,
   "id": "c56b8f84",
   "metadata": {},
   "outputs": [
    {
     "data": {
      "text/html": [
       "<div>\n",
       "<style scoped>\n",
       "    .dataframe tbody tr th:only-of-type {\n",
       "        vertical-align: middle;\n",
       "    }\n",
       "\n",
       "    .dataframe tbody tr th {\n",
       "        vertical-align: top;\n",
       "    }\n",
       "\n",
       "    .dataframe thead th {\n",
       "        text-align: right;\n",
       "    }\n",
       "</style>\n",
       "<table border=\"1\" class=\"dataframe\">\n",
       "  <thead>\n",
       "    <tr style=\"text-align: right;\">\n",
       "      <th></th>\n",
       "      <th>Employee</th>\n",
       "      <th>Age</th>\n",
       "      <th>Salary</th>\n",
       "      <th>Department</th>\n",
       "      <th>Experience</th>\n",
       "      <th>Tax</th>\n",
       "    </tr>\n",
       "  </thead>\n",
       "  <tbody>\n",
       "    <tr>\n",
       "      <th>0</th>\n",
       "      <td>Alice</td>\n",
       "      <td>25</td>\n",
       "      <td>50000</td>\n",
       "      <td>HR</td>\n",
       "      <td>2</td>\n",
       "      <td>5000.0</td>\n",
       "    </tr>\n",
       "    <tr>\n",
       "      <th>1</th>\n",
       "      <td>Bob</td>\n",
       "      <td>30</td>\n",
       "      <td>60000</td>\n",
       "      <td>IT</td>\n",
       "      <td>5</td>\n",
       "      <td>6000.0</td>\n",
       "    </tr>\n",
       "    <tr>\n",
       "      <th>2</th>\n",
       "      <td>Charlie</td>\n",
       "      <td>35</td>\n",
       "      <td>70000</td>\n",
       "      <td>Finance</td>\n",
       "      <td>10</td>\n",
       "      <td>7000.0</td>\n",
       "    </tr>\n",
       "    <tr>\n",
       "      <th>3</th>\n",
       "      <td>David</td>\n",
       "      <td>40</td>\n",
       "      <td>80000</td>\n",
       "      <td>IT</td>\n",
       "      <td>8</td>\n",
       "      <td>8000.0</td>\n",
       "    </tr>\n",
       "    <tr>\n",
       "      <th>4</th>\n",
       "      <td>Eve</td>\n",
       "      <td>45</td>\n",
       "      <td>90000</td>\n",
       "      <td>HR</td>\n",
       "      <td>15</td>\n",
       "      <td>9000.0</td>\n",
       "    </tr>\n",
       "    <tr>\n",
       "      <th>5</th>\n",
       "      <td>Frank</td>\n",
       "      <td>50</td>\n",
       "      <td>75000</td>\n",
       "      <td>Finance</td>\n",
       "      <td>12</td>\n",
       "      <td>7500.0</td>\n",
       "    </tr>\n",
       "    <tr>\n",
       "      <th>6</th>\n",
       "      <td>Grace</td>\n",
       "      <td>29</td>\n",
       "      <td>55000</td>\n",
       "      <td>IT</td>\n",
       "      <td>3</td>\n",
       "      <td>5500.0</td>\n",
       "    </tr>\n",
       "    <tr>\n",
       "      <th>7</th>\n",
       "      <td>Helen</td>\n",
       "      <td>33</td>\n",
       "      <td>72000</td>\n",
       "      <td>Admin</td>\n",
       "      <td>6</td>\n",
       "      <td>7200.0</td>\n",
       "    </tr>\n",
       "  </tbody>\n",
       "</table>\n",
       "</div>"
      ],
      "text/plain": [
       "  Employee  Age  Salary Department  Experience     Tax\n",
       "0    Alice   25   50000         HR           2  5000.0\n",
       "1      Bob   30   60000         IT           5  6000.0\n",
       "2  Charlie   35   70000    Finance          10  7000.0\n",
       "3    David   40   80000         IT           8  8000.0\n",
       "4      Eve   45   90000         HR          15  9000.0\n",
       "5    Frank   50   75000    Finance          12  7500.0\n",
       "6    Grace   29   55000         IT           3  5500.0\n",
       "7    Helen   33   72000      Admin           6  7200.0"
      ]
     },
     "execution_count": 76,
     "metadata": {},
     "output_type": "execute_result"
    }
   ],
   "source": [
    "df['Tax'] = df['Salary']*0.1\n",
    "df"
   ]
  },
  {
   "cell_type": "code",
   "execution_count": 77,
   "id": "362fea5e",
   "metadata": {
    "scrolled": true
   },
   "outputs": [
    {
     "data": {
      "text/html": [
       "<div>\n",
       "<style scoped>\n",
       "    .dataframe tbody tr th:only-of-type {\n",
       "        vertical-align: middle;\n",
       "    }\n",
       "\n",
       "    .dataframe tbody tr th {\n",
       "        vertical-align: top;\n",
       "    }\n",
       "\n",
       "    .dataframe thead th {\n",
       "        text-align: right;\n",
       "    }\n",
       "</style>\n",
       "<table border=\"1\" class=\"dataframe\">\n",
       "  <thead>\n",
       "    <tr style=\"text-align: right;\">\n",
       "      <th></th>\n",
       "      <th>Employee</th>\n",
       "      <th>Age</th>\n",
       "      <th>Salary</th>\n",
       "      <th>Department</th>\n",
       "      <th>Experience</th>\n",
       "      <th>Tax</th>\n",
       "      <th>Experience_level</th>\n",
       "    </tr>\n",
       "  </thead>\n",
       "  <tbody>\n",
       "    <tr>\n",
       "      <th>0</th>\n",
       "      <td>Alice</td>\n",
       "      <td>25</td>\n",
       "      <td>50000</td>\n",
       "      <td>HR</td>\n",
       "      <td>2</td>\n",
       "      <td>5000.0</td>\n",
       "      <td>Junior</td>\n",
       "    </tr>\n",
       "    <tr>\n",
       "      <th>1</th>\n",
       "      <td>Bob</td>\n",
       "      <td>30</td>\n",
       "      <td>60000</td>\n",
       "      <td>IT</td>\n",
       "      <td>5</td>\n",
       "      <td>6000.0</td>\n",
       "      <td>Junior</td>\n",
       "    </tr>\n",
       "    <tr>\n",
       "      <th>2</th>\n",
       "      <td>Charlie</td>\n",
       "      <td>35</td>\n",
       "      <td>70000</td>\n",
       "      <td>Finance</td>\n",
       "      <td>10</td>\n",
       "      <td>7000.0</td>\n",
       "      <td>Senior</td>\n",
       "    </tr>\n",
       "    <tr>\n",
       "      <th>3</th>\n",
       "      <td>David</td>\n",
       "      <td>40</td>\n",
       "      <td>80000</td>\n",
       "      <td>IT</td>\n",
       "      <td>8</td>\n",
       "      <td>8000.0</td>\n",
       "      <td>Senior</td>\n",
       "    </tr>\n",
       "    <tr>\n",
       "      <th>4</th>\n",
       "      <td>Eve</td>\n",
       "      <td>45</td>\n",
       "      <td>90000</td>\n",
       "      <td>HR</td>\n",
       "      <td>15</td>\n",
       "      <td>9000.0</td>\n",
       "      <td>Senior</td>\n",
       "    </tr>\n",
       "    <tr>\n",
       "      <th>5</th>\n",
       "      <td>Frank</td>\n",
       "      <td>50</td>\n",
       "      <td>75000</td>\n",
       "      <td>Finance</td>\n",
       "      <td>12</td>\n",
       "      <td>7500.0</td>\n",
       "      <td>Senior</td>\n",
       "    </tr>\n",
       "    <tr>\n",
       "      <th>6</th>\n",
       "      <td>Grace</td>\n",
       "      <td>29</td>\n",
       "      <td>55000</td>\n",
       "      <td>IT</td>\n",
       "      <td>3</td>\n",
       "      <td>5500.0</td>\n",
       "      <td>Junior</td>\n",
       "    </tr>\n",
       "    <tr>\n",
       "      <th>7</th>\n",
       "      <td>Helen</td>\n",
       "      <td>33</td>\n",
       "      <td>72000</td>\n",
       "      <td>Admin</td>\n",
       "      <td>6</td>\n",
       "      <td>7200.0</td>\n",
       "      <td>Senior</td>\n",
       "    </tr>\n",
       "  </tbody>\n",
       "</table>\n",
       "</div>"
      ],
      "text/plain": [
       "  Employee  Age  Salary Department  Experience     Tax Experience_level\n",
       "0    Alice   25   50000         HR           2  5000.0           Junior\n",
       "1      Bob   30   60000         IT           5  6000.0           Junior\n",
       "2  Charlie   35   70000    Finance          10  7000.0           Senior\n",
       "3    David   40   80000         IT           8  8000.0           Senior\n",
       "4      Eve   45   90000         HR          15  9000.0           Senior\n",
       "5    Frank   50   75000    Finance          12  7500.0           Senior\n",
       "6    Grace   29   55000         IT           3  5500.0           Junior\n",
       "7    Helen   33   72000      Admin           6  7200.0           Senior"
      ]
     },
     "execution_count": 77,
     "metadata": {},
     "output_type": "execute_result"
    }
   ],
   "source": [
    "df['Experience_level'] = np.where(df['Experience'] > 5, 'Senior', 'Junior')\n",
    "df"
   ]
  },
  {
   "cell_type": "code",
   "execution_count": null,
   "id": "f8cf9955",
   "metadata": {},
   "outputs": [],
   "source": [
    "# Group by Department and Count Employees"
   ]
  },
  {
   "cell_type": "code",
   "execution_count": 81,
   "id": "f57fb51a",
   "metadata": {
    "scrolled": true
   },
   "outputs": [
    {
     "data": {
      "text/html": [
       "<div>\n",
       "<style scoped>\n",
       "    .dataframe tbody tr th:only-of-type {\n",
       "        vertical-align: middle;\n",
       "    }\n",
       "\n",
       "    .dataframe tbody tr th {\n",
       "        vertical-align: top;\n",
       "    }\n",
       "\n",
       "    .dataframe thead th {\n",
       "        text-align: right;\n",
       "    }\n",
       "</style>\n",
       "<table border=\"1\" class=\"dataframe\">\n",
       "  <thead>\n",
       "    <tr style=\"text-align: right;\">\n",
       "      <th></th>\n",
       "      <th>Employee</th>\n",
       "      <th>Age</th>\n",
       "      <th>Salary</th>\n",
       "      <th>Department</th>\n",
       "      <th>Experience</th>\n",
       "      <th>Tax</th>\n",
       "      <th>Experience_level</th>\n",
       "      <th>Total</th>\n",
       "    </tr>\n",
       "  </thead>\n",
       "  <tbody>\n",
       "    <tr>\n",
       "      <th>0</th>\n",
       "      <td>Alice</td>\n",
       "      <td>25</td>\n",
       "      <td>50000</td>\n",
       "      <td>HR</td>\n",
       "      <td>2</td>\n",
       "      <td>5000.0</td>\n",
       "      <td>Junior</td>\n",
       "      <td>2</td>\n",
       "    </tr>\n",
       "    <tr>\n",
       "      <th>1</th>\n",
       "      <td>Bob</td>\n",
       "      <td>30</td>\n",
       "      <td>60000</td>\n",
       "      <td>IT</td>\n",
       "      <td>5</td>\n",
       "      <td>6000.0</td>\n",
       "      <td>Junior</td>\n",
       "      <td>3</td>\n",
       "    </tr>\n",
       "    <tr>\n",
       "      <th>2</th>\n",
       "      <td>Charlie</td>\n",
       "      <td>35</td>\n",
       "      <td>70000</td>\n",
       "      <td>Finance</td>\n",
       "      <td>10</td>\n",
       "      <td>7000.0</td>\n",
       "      <td>Senior</td>\n",
       "      <td>2</td>\n",
       "    </tr>\n",
       "    <tr>\n",
       "      <th>3</th>\n",
       "      <td>David</td>\n",
       "      <td>40</td>\n",
       "      <td>80000</td>\n",
       "      <td>IT</td>\n",
       "      <td>8</td>\n",
       "      <td>8000.0</td>\n",
       "      <td>Senior</td>\n",
       "      <td>3</td>\n",
       "    </tr>\n",
       "    <tr>\n",
       "      <th>4</th>\n",
       "      <td>Eve</td>\n",
       "      <td>45</td>\n",
       "      <td>90000</td>\n",
       "      <td>HR</td>\n",
       "      <td>15</td>\n",
       "      <td>9000.0</td>\n",
       "      <td>Senior</td>\n",
       "      <td>2</td>\n",
       "    </tr>\n",
       "    <tr>\n",
       "      <th>5</th>\n",
       "      <td>Frank</td>\n",
       "      <td>50</td>\n",
       "      <td>75000</td>\n",
       "      <td>Finance</td>\n",
       "      <td>12</td>\n",
       "      <td>7500.0</td>\n",
       "      <td>Senior</td>\n",
       "      <td>2</td>\n",
       "    </tr>\n",
       "    <tr>\n",
       "      <th>6</th>\n",
       "      <td>Grace</td>\n",
       "      <td>29</td>\n",
       "      <td>55000</td>\n",
       "      <td>IT</td>\n",
       "      <td>3</td>\n",
       "      <td>5500.0</td>\n",
       "      <td>Junior</td>\n",
       "      <td>3</td>\n",
       "    </tr>\n",
       "    <tr>\n",
       "      <th>7</th>\n",
       "      <td>Helen</td>\n",
       "      <td>33</td>\n",
       "      <td>72000</td>\n",
       "      <td>Admin</td>\n",
       "      <td>6</td>\n",
       "      <td>7200.0</td>\n",
       "      <td>Senior</td>\n",
       "      <td>1</td>\n",
       "    </tr>\n",
       "  </tbody>\n",
       "</table>\n",
       "</div>"
      ],
      "text/plain": [
       "  Employee  Age  Salary Department  Experience     Tax Experience_level  Total\n",
       "0    Alice   25   50000         HR           2  5000.0           Junior      2\n",
       "1      Bob   30   60000         IT           5  6000.0           Junior      3\n",
       "2  Charlie   35   70000    Finance          10  7000.0           Senior      2\n",
       "3    David   40   80000         IT           8  8000.0           Senior      3\n",
       "4      Eve   45   90000         HR          15  9000.0           Senior      2\n",
       "5    Frank   50   75000    Finance          12  7500.0           Senior      2\n",
       "6    Grace   29   55000         IT           3  5500.0           Junior      3\n",
       "7    Helen   33   72000      Admin           6  7200.0           Senior      1"
      ]
     },
     "execution_count": 81,
     "metadata": {},
     "output_type": "execute_result"
    }
   ],
   "source": [
    "df['Total'] = df.groupby('Department')['Employee'].transform('count')\n",
    "df"
   ]
  },
  {
   "cell_type": "code",
   "execution_count": null,
   "id": "eec15630",
   "metadata": {},
   "outputs": [],
   "source": [
    "# Group by Department and Get count of Employee"
   ]
  },
  {
   "cell_type": "code",
   "execution_count": 85,
   "id": "c4fc3452",
   "metadata": {
    "scrolled": true
   },
   "outputs": [
    {
     "data": {
      "text/plain": [
       "Department\n",
       "Admin      1\n",
       "Finance    2\n",
       "HR         2\n",
       "IT         3\n",
       "Name: Employee, dtype: int64"
      ]
     },
     "execution_count": 85,
     "metadata": {},
     "output_type": "execute_result"
    }
   ],
   "source": [
    "total_per_department = df.groupby('Department')['Employee'].count()\n",
    "total_per_department"
   ]
  },
  {
   "cell_type": "code",
   "execution_count": 86,
   "id": "4c3419fb",
   "metadata": {
    "scrolled": true
   },
   "outputs": [
    {
     "data": {
      "text/plain": [
       "Employee            8\n",
       "Age                 8\n",
       "Salary              8\n",
       "Department          8\n",
       "Experience          8\n",
       "Tax                 8\n",
       "Experience_level    8\n",
       "Total               8\n",
       "total               0\n",
       "dtype: int64"
      ]
     },
     "execution_count": 86,
     "metadata": {},
     "output_type": "execute_result"
    }
   ],
   "source": [
    "df.count()"
   ]
  },
  {
   "cell_type": "code",
   "execution_count": 87,
   "id": "a34dbb29",
   "metadata": {
    "scrolled": false
   },
   "outputs": [
    {
     "data": {
      "text/plain": [
       "(8, 9)"
      ]
     },
     "execution_count": 87,
     "metadata": {},
     "output_type": "execute_result"
    }
   ],
   "source": [
    "df.shape"
   ]
  },
  {
   "cell_type": "code",
   "execution_count": null,
   "id": "0cef97c5",
   "metadata": {},
   "outputs": [],
   "source": [
    "# Convert Data Types"
   ]
  },
  {
   "cell_type": "code",
   "execution_count": 88,
   "id": "553c5e3a",
   "metadata": {},
   "outputs": [
    {
     "data": {
      "text/plain": [
       "Employee             object\n",
       "Age                    int8\n",
       "Salary                int32\n",
       "Department           object\n",
       "Experience            int64\n",
       "Tax                 float64\n",
       "Experience_level     object\n",
       "Total                 int64\n",
       "total               float64\n",
       "dtype: object"
      ]
     },
     "execution_count": 88,
     "metadata": {},
     "output_type": "execute_result"
    }
   ],
   "source": [
    "df['Age'] = df['Age'].astype('int8')\n",
    "df['Salary'] = df['Salary'].astype('int32')\n",
    "df.dtypes"
   ]
  },
  {
   "cell_type": "code",
   "execution_count": 90,
   "id": "fc75db23",
   "metadata": {
    "scrolled": true
   },
   "outputs": [
    {
     "data": {
      "text/plain": [
       "Employee             object\n",
       "Age                    int8\n",
       "Salary                int32\n",
       "Department           object\n",
       "Experience             int8\n",
       "Tax                 float64\n",
       "Experience_level     object\n",
       "Total                 int64\n",
       "total               float64\n",
       "dtype: object"
      ]
     },
     "execution_count": 90,
     "metadata": {},
     "output_type": "execute_result"
    }
   ],
   "source": [
    "df['Experience'] = df['Experience'].astype('int8')\n",
    "df.dtypes"
   ]
  },
  {
   "cell_type": "code",
   "execution_count": null,
   "id": "9bfb303c",
   "metadata": {},
   "outputs": [],
   "source": [
    "# Categorizing Employees Based on Experience"
   ]
  },
  {
   "cell_type": "code",
   "execution_count": 91,
   "id": "ee053b13",
   "metadata": {},
   "outputs": [],
   "source": [
    "df['Experience_level'] = df['Experience'].apply(lambda x: 'Senior' if x>5 else 'Junior')"
   ]
  },
  {
   "cell_type": "code",
   "execution_count": 92,
   "id": "0a885131",
   "metadata": {
    "scrolled": true
   },
   "outputs": [
    {
     "data": {
      "text/html": [
       "<div>\n",
       "<style scoped>\n",
       "    .dataframe tbody tr th:only-of-type {\n",
       "        vertical-align: middle;\n",
       "    }\n",
       "\n",
       "    .dataframe tbody tr th {\n",
       "        vertical-align: top;\n",
       "    }\n",
       "\n",
       "    .dataframe thead th {\n",
       "        text-align: right;\n",
       "    }\n",
       "</style>\n",
       "<table border=\"1\" class=\"dataframe\">\n",
       "  <thead>\n",
       "    <tr style=\"text-align: right;\">\n",
       "      <th></th>\n",
       "      <th>Employee</th>\n",
       "      <th>Age</th>\n",
       "      <th>Salary</th>\n",
       "      <th>Department</th>\n",
       "      <th>Experience</th>\n",
       "      <th>Tax</th>\n",
       "      <th>Experience_level</th>\n",
       "      <th>Total</th>\n",
       "      <th>total</th>\n",
       "    </tr>\n",
       "  </thead>\n",
       "  <tbody>\n",
       "    <tr>\n",
       "      <th>0</th>\n",
       "      <td>Alice</td>\n",
       "      <td>25</td>\n",
       "      <td>50000</td>\n",
       "      <td>HR</td>\n",
       "      <td>2</td>\n",
       "      <td>5000.0</td>\n",
       "      <td>Junior</td>\n",
       "      <td>2</td>\n",
       "      <td>NaN</td>\n",
       "    </tr>\n",
       "    <tr>\n",
       "      <th>1</th>\n",
       "      <td>Bob</td>\n",
       "      <td>30</td>\n",
       "      <td>60000</td>\n",
       "      <td>IT</td>\n",
       "      <td>5</td>\n",
       "      <td>6000.0</td>\n",
       "      <td>Junior</td>\n",
       "      <td>3</td>\n",
       "      <td>NaN</td>\n",
       "    </tr>\n",
       "    <tr>\n",
       "      <th>2</th>\n",
       "      <td>Charlie</td>\n",
       "      <td>35</td>\n",
       "      <td>70000</td>\n",
       "      <td>Finance</td>\n",
       "      <td>10</td>\n",
       "      <td>7000.0</td>\n",
       "      <td>Senior</td>\n",
       "      <td>2</td>\n",
       "      <td>NaN</td>\n",
       "    </tr>\n",
       "    <tr>\n",
       "      <th>3</th>\n",
       "      <td>David</td>\n",
       "      <td>40</td>\n",
       "      <td>80000</td>\n",
       "      <td>IT</td>\n",
       "      <td>8</td>\n",
       "      <td>8000.0</td>\n",
       "      <td>Senior</td>\n",
       "      <td>3</td>\n",
       "      <td>NaN</td>\n",
       "    </tr>\n",
       "    <tr>\n",
       "      <th>4</th>\n",
       "      <td>Eve</td>\n",
       "      <td>45</td>\n",
       "      <td>90000</td>\n",
       "      <td>HR</td>\n",
       "      <td>15</td>\n",
       "      <td>9000.0</td>\n",
       "      <td>Senior</td>\n",
       "      <td>2</td>\n",
       "      <td>NaN</td>\n",
       "    </tr>\n",
       "    <tr>\n",
       "      <th>5</th>\n",
       "      <td>Frank</td>\n",
       "      <td>50</td>\n",
       "      <td>75000</td>\n",
       "      <td>Finance</td>\n",
       "      <td>12</td>\n",
       "      <td>7500.0</td>\n",
       "      <td>Senior</td>\n",
       "      <td>2</td>\n",
       "      <td>NaN</td>\n",
       "    </tr>\n",
       "    <tr>\n",
       "      <th>6</th>\n",
       "      <td>Grace</td>\n",
       "      <td>29</td>\n",
       "      <td>55000</td>\n",
       "      <td>IT</td>\n",
       "      <td>3</td>\n",
       "      <td>5500.0</td>\n",
       "      <td>Junior</td>\n",
       "      <td>3</td>\n",
       "      <td>NaN</td>\n",
       "    </tr>\n",
       "    <tr>\n",
       "      <th>7</th>\n",
       "      <td>Helen</td>\n",
       "      <td>33</td>\n",
       "      <td>72000</td>\n",
       "      <td>Admin</td>\n",
       "      <td>6</td>\n",
       "      <td>7200.0</td>\n",
       "      <td>Senior</td>\n",
       "      <td>1</td>\n",
       "      <td>NaN</td>\n",
       "    </tr>\n",
       "  </tbody>\n",
       "</table>\n",
       "</div>"
      ],
      "text/plain": [
       "  Employee  Age  Salary Department  Experience     Tax Experience_level  \\\n",
       "0    Alice   25   50000         HR           2  5000.0           Junior   \n",
       "1      Bob   30   60000         IT           5  6000.0           Junior   \n",
       "2  Charlie   35   70000    Finance          10  7000.0           Senior   \n",
       "3    David   40   80000         IT           8  8000.0           Senior   \n",
       "4      Eve   45   90000         HR          15  9000.0           Senior   \n",
       "5    Frank   50   75000    Finance          12  7500.0           Senior   \n",
       "6    Grace   29   55000         IT           3  5500.0           Junior   \n",
       "7    Helen   33   72000      Admin           6  7200.0           Senior   \n",
       "\n",
       "   Total  total  \n",
       "0      2    NaN  \n",
       "1      3    NaN  \n",
       "2      2    NaN  \n",
       "3      3    NaN  \n",
       "4      2    NaN  \n",
       "5      2    NaN  \n",
       "6      3    NaN  \n",
       "7      1    NaN  "
      ]
     },
     "execution_count": 92,
     "metadata": {},
     "output_type": "execute_result"
    }
   ],
   "source": [
    "df"
   ]
  },
  {
   "cell_type": "code",
   "execution_count": null,
   "id": "cfa3112a",
   "metadata": {},
   "outputs": [],
   "source": [
    "# Bar Chart: Employee Count per Department"
   ]
  },
  {
   "cell_type": "code",
   "execution_count": 93,
   "id": "60c12832",
   "metadata": {
    "scrolled": false
   },
   "outputs": [
    {
     "data": {
      "image/png": "[encoded data removed]",
      "text/plain": [
       "<Figure size 640x480 with 1 Axes>"
      ]
     },
     "metadata": {},
     "output_type": "display_data"
    }
   ],
   "source": [
    "import matplotlib.pyplot as plt\n",
    "df.groupby('Department')['Employee'].count().plot(kind='bar', color='skyblue')\n",
    "plt.title(\"Employee Count per Department\")\n",
    "plt.xlabel(\"Department\")\n",
    "plt.ylabel(\"Number of Employees\")\n",
    "plt.show()"
   ]
  },
  {
   "cell_type": "code",
   "execution_count": null,
   "id": "656c3f4a",
   "metadata": {},
   "outputs": [],
   "source": [
    "# Line Chart: Salary Trends by Age"
   ]
  },
  {
   "cell_type": "code",
   "execution_count": 97,
   "id": "e54892c3",
   "metadata": {
    "scrolled": true
   },
   "outputs": [
    {
     "data": {
      "image/png": "[encoded data removed]",
      "text/plain": [
       "<Figure size 640x480 with 1 Axes>"
      ]
     },
     "metadata": {},
     "output_type": "display_data"
    }
   ],
   "source": [
    "df.plot(x='Age', y='Salary', kind='line', marker='o', color='green')\n",
    "plt.title(\"Salary vs Age.\")\n",
    "plt.xlabel(\"Age\")\n",
    "plt.ylabel(\"Salary\")\n",
    "plt.grid()\n",
    "plt.show()"
   ]
  },
  {
   "cell_type": "code",
   "execution_count": null,
   "id": "155ebf6b",
   "metadata": {},
   "outputs": [],
   "source": [
    "# Pie Chart: Department Distribution"
   ]
  },
  {
   "cell_type": "code",
   "execution_count": 98,
   "id": "6425038e",
   "metadata": {
    "scrolled": false
   },
   "outputs": [
    {
     "data": {
      "image/png": "[encoded data removed]",
      "text/plain": [
       "<Figure size 640x480 with 1 Axes>"
      ]
     },
     "metadata": {},
     "output_type": "display_data"
    }
   ],
   "source": [
    "df['Department'].value_counts().plot(kind='pie', autopct='%1.1f%%', startangle=90, colors=['lightcoral','lightblue', 'lightgreen'])\n",
    "plt.title(\"Department Distribution\")\n",
    "plt.ylabel(\"\")\n",
    "plt.show()"
   ]
  },
  {
   "cell_type": "code",
   "execution_count": null,
   "id": "051c6b1d",
   "metadata": {},
   "outputs": [],
   "source": [
    "# Detecting Missing Data (isnull(), sum())"
   ]
  },
  {
   "cell_type": "code",
   "execution_count": 99,
   "id": "f3a0e30d",
   "metadata": {
    "scrolled": true
   },
   "outputs": [
    {
     "data": {
      "text/plain": [
       "Employee            0\n",
       "Age                 0\n",
       "Salary              0\n",
       "Department          0\n",
       "Experience          0\n",
       "Tax                 0\n",
       "Experience_level    0\n",
       "Total               0\n",
       "total               8\n",
       "dtype: int64"
      ]
     },
     "execution_count": 99,
     "metadata": {},
     "output_type": "execute_result"
    }
   ],
   "source": [
    "df.isnull().sum()"
   ]
  },
  {
   "cell_type": "code",
   "execution_count": null,
   "id": "b4790c43",
   "metadata": {},
   "outputs": [],
   "source": [
    "# Removing Missing Values (dropna())"
   ]
  },
  {
   "cell_type": "code",
   "execution_count": 100,
   "id": "8eddff57",
   "metadata": {
    "scrolled": false
   },
   "outputs": [
    {
     "data": {
      "text/html": [
       "<div>\n",
       "<style scoped>\n",
       "    .dataframe tbody tr th:only-of-type {\n",
       "        vertical-align: middle;\n",
       "    }\n",
       "\n",
       "    .dataframe tbody tr th {\n",
       "        vertical-align: top;\n",
       "    }\n",
       "\n",
       "    .dataframe thead th {\n",
       "        text-align: right;\n",
       "    }\n",
       "</style>\n",
       "<table border=\"1\" class=\"dataframe\">\n",
       "  <thead>\n",
       "    <tr style=\"text-align: right;\">\n",
       "      <th></th>\n",
       "      <th>Employee</th>\n",
       "      <th>Age</th>\n",
       "      <th>Salary</th>\n",
       "      <th>Department</th>\n",
       "      <th>Experience</th>\n",
       "      <th>Tax</th>\n",
       "      <th>Experience_level</th>\n",
       "      <th>Total</th>\n",
       "      <th>total</th>\n",
       "    </tr>\n",
       "  </thead>\n",
       "  <tbody>\n",
       "  </tbody>\n",
       "</table>\n",
       "</div>"
      ],
      "text/plain": [
       "Empty DataFrame\n",
       "Columns: [Employee, Age, Salary, Department, Experience, Tax, Experience_level, Total, total]\n",
       "Index: []"
      ]
     },
     "execution_count": 100,
     "metadata": {},
     "output_type": "execute_result"
    }
   ],
   "source": [
    "df_cleaned = df.dropna()\n",
    "df_cleaned"
   ]
  },
  {
   "cell_type": "code",
   "execution_count": null,
   "id": "7c2dc237",
   "metadata": {},
   "outputs": [],
   "source": [
    "# Filling Missing Values (fillna())"
   ]
  },
  {
   "cell_type": "code",
   "execution_count": 104,
   "id": "3457837b",
   "metadata": {
    "scrolled": false
   },
   "outputs": [
    {
     "data": {
      "text/html": [
       "<div>\n",
       "<style scoped>\n",
       "    .dataframe tbody tr th:only-of-type {\n",
       "        vertical-align: middle;\n",
       "    }\n",
       "\n",
       "    .dataframe tbody tr th {\n",
       "        vertical-align: top;\n",
       "    }\n",
       "\n",
       "    .dataframe thead th {\n",
       "        text-align: right;\n",
       "    }\n",
       "</style>\n",
       "<table border=\"1\" class=\"dataframe\">\n",
       "  <thead>\n",
       "    <tr style=\"text-align: right;\">\n",
       "      <th></th>\n",
       "      <th>Employee</th>\n",
       "      <th>Age</th>\n",
       "      <th>Salary</th>\n",
       "      <th>Department</th>\n",
       "      <th>Experience</th>\n",
       "      <th>Tax</th>\n",
       "      <th>Experience_level</th>\n",
       "      <th>Total</th>\n",
       "      <th>total</th>\n",
       "    </tr>\n",
       "  </thead>\n",
       "  <tbody>\n",
       "    <tr>\n",
       "      <th>0</th>\n",
       "      <td>Alice</td>\n",
       "      <td>25</td>\n",
       "      <td>50000</td>\n",
       "      <td>HR</td>\n",
       "      <td>2</td>\n",
       "      <td>5000.0</td>\n",
       "      <td>Junior</td>\n",
       "      <td>2</td>\n",
       "      <td>NaN</td>\n",
       "    </tr>\n",
       "    <tr>\n",
       "      <th>1</th>\n",
       "      <td>Bob</td>\n",
       "      <td>30</td>\n",
       "      <td>60000</td>\n",
       "      <td>IT</td>\n",
       "      <td>5</td>\n",
       "      <td>6000.0</td>\n",
       "      <td>Junior</td>\n",
       "      <td>3</td>\n",
       "      <td>NaN</td>\n",
       "    </tr>\n",
       "    <tr>\n",
       "      <th>2</th>\n",
       "      <td>Charlie</td>\n",
       "      <td>35</td>\n",
       "      <td>70000</td>\n",
       "      <td>Finance</td>\n",
       "      <td>10</td>\n",
       "      <td>7000.0</td>\n",
       "      <td>Senior</td>\n",
       "      <td>2</td>\n",
       "      <td>NaN</td>\n",
       "    </tr>\n",
       "    <tr>\n",
       "      <th>3</th>\n",
       "      <td>David</td>\n",
       "      <td>40</td>\n",
       "      <td>80000</td>\n",
       "      <td>IT</td>\n",
       "      <td>8</td>\n",
       "      <td>8000.0</td>\n",
       "      <td>Senior</td>\n",
       "      <td>3</td>\n",
       "      <td>NaN</td>\n",
       "    </tr>\n",
       "    <tr>\n",
       "      <th>4</th>\n",
       "      <td>Eve</td>\n",
       "      <td>45</td>\n",
       "      <td>90000</td>\n",
       "      <td>HR</td>\n",
       "      <td>15</td>\n",
       "      <td>9000.0</td>\n",
       "      <td>Senior</td>\n",
       "      <td>2</td>\n",
       "      <td>NaN</td>\n",
       "    </tr>\n",
       "    <tr>\n",
       "      <th>5</th>\n",
       "      <td>Frank</td>\n",
       "      <td>50</td>\n",
       "      <td>75000</td>\n",
       "      <td>Finance</td>\n",
       "      <td>12</td>\n",
       "      <td>7500.0</td>\n",
       "      <td>Senior</td>\n",
       "      <td>2</td>\n",
       "      <td>NaN</td>\n",
       "    </tr>\n",
       "    <tr>\n",
       "      <th>6</th>\n",
       "      <td>Grace</td>\n",
       "      <td>29</td>\n",
       "      <td>55000</td>\n",
       "      <td>IT</td>\n",
       "      <td>3</td>\n",
       "      <td>5500.0</td>\n",
       "      <td>Junior</td>\n",
       "      <td>3</td>\n",
       "      <td>NaN</td>\n",
       "    </tr>\n",
       "    <tr>\n",
       "      <th>7</th>\n",
       "      <td>Helen</td>\n",
       "      <td>33</td>\n",
       "      <td>72000</td>\n",
       "      <td>Admin</td>\n",
       "      <td>6</td>\n",
       "      <td>7200.0</td>\n",
       "      <td>Senior</td>\n",
       "      <td>1</td>\n",
       "      <td>NaN</td>\n",
       "    </tr>\n",
       "  </tbody>\n",
       "</table>\n",
       "</div>"
      ],
      "text/plain": [
       "  Employee  Age  Salary Department  Experience     Tax Experience_level  \\\n",
       "0    Alice   25   50000         HR           2  5000.0           Junior   \n",
       "1      Bob   30   60000         IT           5  6000.0           Junior   \n",
       "2  Charlie   35   70000    Finance          10  7000.0           Senior   \n",
       "3    David   40   80000         IT           8  8000.0           Senior   \n",
       "4      Eve   45   90000         HR          15  9000.0           Senior   \n",
       "5    Frank   50   75000    Finance          12  7500.0           Senior   \n",
       "6    Grace   29   55000         IT           3  5500.0           Junior   \n",
       "7    Helen   33   72000      Admin           6  7200.0           Senior   \n",
       "\n",
       "   Total  total  \n",
       "0      2    NaN  \n",
       "1      3    NaN  \n",
       "2      2    NaN  \n",
       "3      3    NaN  \n",
       "4      2    NaN  \n",
       "5      2    NaN  \n",
       "6      3    NaN  \n",
       "7      1    NaN  "
      ]
     },
     "execution_count": 104,
     "metadata": {},
     "output_type": "execute_result"
    }
   ],
   "source": [
    "fillData = df.fillna({'Age': df['Age'].mean()})\n",
    "fillData"
   ]
  },
  {
   "cell_type": "code",
   "execution_count": null,
   "id": "d704f15b",
   "metadata": {},
   "outputs": [],
   "source": [
    "# Fill with Forward Fill (Previous Value)"
   ]
  },
  {
   "cell_type": "code",
   "execution_count": 105,
   "id": "9e2fc69a",
   "metadata": {},
   "outputs": [],
   "source": [
    "df.fillna(method='ffill', inplace=True)"
   ]
  },
  {
   "cell_type": "code",
   "execution_count": null,
   "id": "c18bc913",
   "metadata": {},
   "outputs": [],
   "source": [
    "# Fill with Backward Fill (Next Value)"
   ]
  },
  {
   "cell_type": "code",
   "execution_count": 106,
   "id": "d874b501",
   "metadata": {},
   "outputs": [],
   "source": [
    "df.fillna(method='bfill', inplace=True)"
   ]
  },
  {
   "cell_type": "code",
   "execution_count": null,
   "id": "b95c27e3",
   "metadata": {},
   "outputs": [],
   "source": [
    "# Replacing Missing Data with Specific Values"
   ]
  },
  {
   "cell_type": "code",
   "execution_count": 107,
   "id": "e8f95a19",
   "metadata": {},
   "outputs": [],
   "source": [
    "df['Department'].fillna('Unknown', inplace=True)"
   ]
  },
  {
   "cell_type": "code",
   "execution_count": null,
   "id": "93867231",
   "metadata": {},
   "outputs": [],
   "source": [
    "# Min-Max Scaling (Normalization)\n",
    "# Scales values between 0 and 1."
   ]
  },
  {
   "cell_type": "code",
   "execution_count": 108,
   "id": "1624991c",
   "metadata": {},
   "outputs": [],
   "source": [
    "from sklearn.preprocessing import MinMaxScaler"
   ]
  },
  {
   "cell_type": "code",
   "execution_count": 109,
   "id": "406f32bd",
   "metadata": {
    "scrolled": true
   },
   "outputs": [
    {
     "data": {
      "text/html": [
       "<div>\n",
       "<style scoped>\n",
       "    .dataframe tbody tr th:only-of-type {\n",
       "        vertical-align: middle;\n",
       "    }\n",
       "\n",
       "    .dataframe tbody tr th {\n",
       "        vertical-align: top;\n",
       "    }\n",
       "\n",
       "    .dataframe thead th {\n",
       "        text-align: right;\n",
       "    }\n",
       "</style>\n",
       "<table border=\"1\" class=\"dataframe\">\n",
       "  <thead>\n",
       "    <tr style=\"text-align: right;\">\n",
       "      <th></th>\n",
       "      <th>Employee</th>\n",
       "      <th>Age</th>\n",
       "      <th>Salary</th>\n",
       "      <th>Department</th>\n",
       "      <th>Experience</th>\n",
       "      <th>Tax</th>\n",
       "      <th>Experience_level</th>\n",
       "      <th>Total</th>\n",
       "      <th>total</th>\n",
       "    </tr>\n",
       "  </thead>\n",
       "  <tbody>\n",
       "    <tr>\n",
       "      <th>0</th>\n",
       "      <td>Alice</td>\n",
       "      <td>0.0</td>\n",
       "      <td>0.00</td>\n",
       "      <td>HR</td>\n",
       "      <td>2</td>\n",
       "      <td>5000.0</td>\n",
       "      <td>Junior</td>\n",
       "      <td>2</td>\n",
       "      <td>NaN</td>\n",
       "    </tr>\n",
       "    <tr>\n",
       "      <th>1</th>\n",
       "      <td>Bob</td>\n",
       "      <td>0.2</td>\n",
       "      <td>0.25</td>\n",
       "      <td>IT</td>\n",
       "      <td>5</td>\n",
       "      <td>6000.0</td>\n",
       "      <td>Junior</td>\n",
       "      <td>3</td>\n",
       "      <td>NaN</td>\n",
       "    </tr>\n",
       "    <tr>\n",
       "      <th>2</th>\n",
       "      <td>Charlie</td>\n",
       "      <td>0.4</td>\n",
       "      <td>0.50</td>\n",
       "      <td>Finance</td>\n",
       "      <td>10</td>\n",
       "      <td>7000.0</td>\n",
       "      <td>Senior</td>\n",
       "      <td>2</td>\n",
       "      <td>NaN</td>\n",
       "    </tr>\n",
       "    <tr>\n",
       "      <th>3</th>\n",
       "      <td>David</td>\n",
       "      <td>0.6</td>\n",
       "      <td>0.75</td>\n",
       "      <td>IT</td>\n",
       "      <td>8</td>\n",
       "      <td>8000.0</td>\n",
       "      <td>Senior</td>\n",
       "      <td>3</td>\n",
       "      <td>NaN</td>\n",
       "    </tr>\n",
       "    <tr>\n",
       "      <th>4</th>\n",
       "      <td>Eve</td>\n",
       "      <td>0.8</td>\n",
       "      <td>1.00</td>\n",
       "      <td>HR</td>\n",
       "      <td>15</td>\n",
       "      <td>9000.0</td>\n",
       "      <td>Senior</td>\n",
       "      <td>2</td>\n",
       "      <td>NaN</td>\n",
       "    </tr>\n",
       "  </tbody>\n",
       "</table>\n",
       "</div>"
      ],
      "text/plain": [
       "  Employee  Age  Salary Department  Experience     Tax Experience_level  \\\n",
       "0    Alice  0.0    0.00         HR           2  5000.0           Junior   \n",
       "1      Bob  0.2    0.25         IT           5  6000.0           Junior   \n",
       "2  Charlie  0.4    0.50    Finance          10  7000.0           Senior   \n",
       "3    David  0.6    0.75         IT           8  8000.0           Senior   \n",
       "4      Eve  0.8    1.00         HR          15  9000.0           Senior   \n",
       "\n",
       "   Total  total  \n",
       "0      2    NaN  \n",
       "1      3    NaN  \n",
       "2      2    NaN  \n",
       "3      3    NaN  \n",
       "4      2    NaN  "
      ]
     },
     "execution_count": 109,
     "metadata": {},
     "output_type": "execute_result"
    }
   ],
   "source": [
    "scaler = MinMaxScaler()\n",
    "df[['Age', 'Salary']] = scaler.fit_transform(df[['Age', 'Salary']])\n",
    "df.head()"
   ]
  },
  {
   "cell_type": "code",
   "execution_count": null,
   "id": "b32727d9",
   "metadata": {},
   "outputs": [],
   "source": [
    "# Standardization (Z-Score Normalization)\n",
    "# Scales values to mean = 0, std = 1."
   ]
  },
  {
   "cell_type": "code",
   "execution_count": 112,
   "id": "563707c1",
   "metadata": {
    "scrolled": false
   },
   "outputs": [
    {
     "data": {
      "text/html": [
       "<div>\n",
       "<style scoped>\n",
       "    .dataframe tbody tr th:only-of-type {\n",
       "        vertical-align: middle;\n",
       "    }\n",
       "\n",
       "    .dataframe tbody tr th {\n",
       "        vertical-align: top;\n",
       "    }\n",
       "\n",
       "    .dataframe thead th {\n",
       "        text-align: right;\n",
       "    }\n",
       "</style>\n",
       "<table border=\"1\" class=\"dataframe\">\n",
       "  <thead>\n",
       "    <tr style=\"text-align: right;\">\n",
       "      <th></th>\n",
       "      <th>Employee</th>\n",
       "      <th>Age</th>\n",
       "      <th>Salary</th>\n",
       "      <th>Department</th>\n",
       "      <th>Experience</th>\n",
       "      <th>Tax</th>\n",
       "      <th>Experience_level</th>\n",
       "      <th>Total</th>\n",
       "      <th>total</th>\n",
       "    </tr>\n",
       "  </thead>\n",
       "  <tbody>\n",
       "    <tr>\n",
       "      <th>0</th>\n",
       "      <td>Alice</td>\n",
       "      <td>-1.363543</td>\n",
       "      <td>-1.522438</td>\n",
       "      <td>HR</td>\n",
       "      <td>2</td>\n",
       "      <td>5000.0</td>\n",
       "      <td>Junior</td>\n",
       "      <td>2</td>\n",
       "      <td>NaN</td>\n",
       "    </tr>\n",
       "    <tr>\n",
       "      <th>1</th>\n",
       "      <td>Bob</td>\n",
       "      <td>-0.736626</td>\n",
       "      <td>-0.721155</td>\n",
       "      <td>IT</td>\n",
       "      <td>5</td>\n",
       "      <td>6000.0</td>\n",
       "      <td>Junior</td>\n",
       "      <td>3</td>\n",
       "      <td>NaN</td>\n",
       "    </tr>\n",
       "    <tr>\n",
       "      <th>2</th>\n",
       "      <td>Charlie</td>\n",
       "      <td>-0.109710</td>\n",
       "      <td>0.080128</td>\n",
       "      <td>Finance</td>\n",
       "      <td>10</td>\n",
       "      <td>7000.0</td>\n",
       "      <td>Senior</td>\n",
       "      <td>2</td>\n",
       "      <td>NaN</td>\n",
       "    </tr>\n",
       "    <tr>\n",
       "      <th>3</th>\n",
       "      <td>David</td>\n",
       "      <td>0.517206</td>\n",
       "      <td>0.881411</td>\n",
       "      <td>IT</td>\n",
       "      <td>8</td>\n",
       "      <td>8000.0</td>\n",
       "      <td>Senior</td>\n",
       "      <td>3</td>\n",
       "      <td>NaN</td>\n",
       "    </tr>\n",
       "    <tr>\n",
       "      <th>4</th>\n",
       "      <td>Eve</td>\n",
       "      <td>1.144122</td>\n",
       "      <td>1.682694</td>\n",
       "      <td>HR</td>\n",
       "      <td>15</td>\n",
       "      <td>9000.0</td>\n",
       "      <td>Senior</td>\n",
       "      <td>2</td>\n",
       "      <td>NaN</td>\n",
       "    </tr>\n",
       "  </tbody>\n",
       "</table>\n",
       "</div>"
      ],
      "text/plain": [
       "  Employee       Age    Salary Department  Experience     Tax  \\\n",
       "0    Alice -1.363543 -1.522438         HR           2  5000.0   \n",
       "1      Bob -0.736626 -0.721155         IT           5  6000.0   \n",
       "2  Charlie -0.109710  0.080128    Finance          10  7000.0   \n",
       "3    David  0.517206  0.881411         IT           8  8000.0   \n",
       "4      Eve  1.144122  1.682694         HR          15  9000.0   \n",
       "\n",
       "  Experience_level  Total  total  \n",
       "0           Junior      2    NaN  \n",
       "1           Junior      3    NaN  \n",
       "2           Senior      2    NaN  \n",
       "3           Senior      3    NaN  \n",
       "4           Senior      2    NaN  "
      ]
     },
     "execution_count": 112,
     "metadata": {},
     "output_type": "execute_result"
    }
   ],
   "source": [
    "from sklearn.preprocessing import StandardScaler\n",
    "scaler = StandardScaler()\n",
    "df[['Age', 'Salary']] = scaler.fit_transform(df[['Age', 'Salary']])\n",
    "df.head()"
   ]
  },
  {
   "cell_type": "code",
   "execution_count": null,
   "id": "b83e55ca",
   "metadata": {},
   "outputs": [],
   "source": [
    "# Robust Scaling (Handles Outliers)"
   ]
  },
  {
   "cell_type": "code",
   "execution_count": 113,
   "id": "a17593ce",
   "metadata": {
    "scrolled": true
   },
   "outputs": [
    {
     "name": "stdout",
     "output_type": "stream",
     "text": [
      "  Employee       Age    Salary Department  Experience     Tax  \\\n",
      "0    Alice -0.782609 -1.200000         HR           2  5000.0   \n",
      "1      Bob -0.347826 -0.628571         IT           5  6000.0   \n",
      "2  Charlie  0.086957 -0.057143    Finance          10  7000.0   \n",
      "3    David  0.521739  0.514286         IT           8  8000.0   \n",
      "4      Eve  0.956522  1.085714         HR          15  9000.0   \n",
      "\n",
      "  Experience_level  Total  total  \n",
      "0           Junior      2    NaN  \n",
      "1           Junior      3    NaN  \n",
      "2           Senior      2    NaN  \n",
      "3           Senior      3    NaN  \n",
      "4           Senior      2    NaN  \n"
     ]
    }
   ],
   "source": [
    "from sklearn.preprocessing import RobustScaler\n",
    "\n",
    "scaler = RobustScaler()\n",
    "df[['Age', 'Salary']] = scaler.fit_transform(df[['Age', 'Salary']])\n",
    "print(df.head())\n"
   ]
  },
  {
   "cell_type": "code",
   "execution_count": null,
   "id": "eeeca869",
   "metadata": {},
   "outputs": [],
   "source": [
    "# Creating a \"Seniority Level\" from Experience"
   ]
  },
  {
   "cell_type": "code",
   "execution_count": 114,
   "id": "10e2e5dc",
   "metadata": {
    "scrolled": true
   },
   "outputs": [
    {
     "data": {
      "text/html": [
       "<div>\n",
       "<style scoped>\n",
       "    .dataframe tbody tr th:only-of-type {\n",
       "        vertical-align: middle;\n",
       "    }\n",
       "\n",
       "    .dataframe tbody tr th {\n",
       "        vertical-align: top;\n",
       "    }\n",
       "\n",
       "    .dataframe thead th {\n",
       "        text-align: right;\n",
       "    }\n",
       "</style>\n",
       "<table border=\"1\" class=\"dataframe\">\n",
       "  <thead>\n",
       "    <tr style=\"text-align: right;\">\n",
       "      <th></th>\n",
       "      <th>Experience</th>\n",
       "      <th>Seniority</th>\n",
       "    </tr>\n",
       "  </thead>\n",
       "  <tbody>\n",
       "    <tr>\n",
       "      <th>0</th>\n",
       "      <td>2</td>\n",
       "      <td>Junior</td>\n",
       "    </tr>\n",
       "    <tr>\n",
       "      <th>1</th>\n",
       "      <td>5</td>\n",
       "      <td>Junior</td>\n",
       "    </tr>\n",
       "    <tr>\n",
       "      <th>2</th>\n",
       "      <td>10</td>\n",
       "      <td>Senior</td>\n",
       "    </tr>\n",
       "    <tr>\n",
       "      <th>3</th>\n",
       "      <td>8</td>\n",
       "      <td>Senior</td>\n",
       "    </tr>\n",
       "    <tr>\n",
       "      <th>4</th>\n",
       "      <td>15</td>\n",
       "      <td>Senior</td>\n",
       "    </tr>\n",
       "  </tbody>\n",
       "</table>\n",
       "</div>"
      ],
      "text/plain": [
       "   Experience Seniority\n",
       "0           2    Junior\n",
       "1           5    Junior\n",
       "2          10    Senior\n",
       "3           8    Senior\n",
       "4          15    Senior"
      ]
     },
     "execution_count": 114,
     "metadata": {},
     "output_type": "execute_result"
    }
   ],
   "source": [
    "df['Seniority'] = df['Experience'].apply(lambda x: 'Senior' if x>5 else 'Junior')\n",
    "df[['Experience', 'Seniority']].head()"
   ]
  },
  {
   "cell_type": "code",
   "execution_count": null,
   "id": "e3d3cf91",
   "metadata": {},
   "outputs": [],
   "source": [
    "# Grouping Age into Bins"
   ]
  },
  {
   "cell_type": "code",
   "execution_count": 115,
   "id": "1edbab6c",
   "metadata": {
    "scrolled": true
   },
   "outputs": [
    {
     "name": "stdout",
     "output_type": "stream",
     "text": [
      "        Age Age_Group\n",
      "0 -0.782609       NaN\n",
      "1 -0.347826       NaN\n",
      "2  0.086957       NaN\n",
      "3  0.521739       NaN\n",
      "4  0.956522       NaN\n"
     ]
    }
   ],
   "source": [
    "bins = [18, 30, 50, 65]  \n",
    "labels = ['Young', 'Mid-Age', 'Senior']\n",
    "df['Age_Group'] = pd.cut(df['Age'], bins=bins, labels=labels)\n",
    "print(df[['Age', 'Age_Group']].head())\n"
   ]
  },
  {
   "cell_type": "code",
   "execution_count": null,
   "id": "4e628635",
   "metadata": {},
   "outputs": [],
   "source": [
    "# One-Hot Encoding Departments"
   ]
  },
  {
   "cell_type": "code",
   "execution_count": 116,
   "id": "54ab6e80",
   "metadata": {
    "scrolled": true
   },
   "outputs": [
    {
     "name": "stdout",
     "output_type": "stream",
     "text": [
      "  Employee       Age    Salary  Experience     Tax Experience_level  Total  \\\n",
      "0    Alice -0.782609 -1.200000           2  5000.0           Junior      2   \n",
      "1      Bob -0.347826 -0.628571           5  6000.0           Junior      3   \n",
      "2  Charlie  0.086957 -0.057143          10  7000.0           Senior      2   \n",
      "3    David  0.521739  0.514286           8  8000.0           Senior      3   \n",
      "4      Eve  0.956522  1.085714          15  9000.0           Senior      2   \n",
      "\n",
      "   total Seniority Age_Group  Department_Admin  Department_Finance  \\\n",
      "0    NaN    Junior       NaN                 0                   0   \n",
      "1    NaN    Junior       NaN                 0                   0   \n",
      "2    NaN    Senior       NaN                 0                   1   \n",
      "3    NaN    Senior       NaN                 0                   0   \n",
      "4    NaN    Senior       NaN                 0                   0   \n",
      "\n",
      "   Department_HR  Department_IT  \n",
      "0              1              0  \n",
      "1              0              1  \n",
      "2              0              0  \n",
      "3              0              1  \n",
      "4              1              0  \n"
     ]
    }
   ],
   "source": [
    "df = pd.get_dummies(df, columns=['Department'])\n",
    "print(df.head())\n"
   ]
  },
  {
   "cell_type": "code",
   "execution_count": null,
   "id": "0020e079",
   "metadata": {},
   "outputs": [],
   "source": [
    "# Creating an \"Income Per Year\" Feature"
   ]
  },
  {
   "cell_type": "code",
   "execution_count": 117,
   "id": "62c53181",
   "metadata": {},
   "outputs": [
    {
     "name": "stdout",
     "output_type": "stream",
     "text": [
      "     Salary  Annual_Income\n",
      "0 -1.200000     -14.400000\n",
      "1 -0.628571      -7.542857\n",
      "2 -0.057143      -0.685714\n",
      "3  0.514286       6.171429\n",
      "4  1.085714      13.028571\n"
     ]
    }
   ],
   "source": [
    "df['Annual_Income'] = df['Salary'] * 12\n",
    "print(df[['Salary', 'Annual_Income']].head())\n"
   ]
  },
  {
   "cell_type": "code",
   "execution_count": null,
   "id": "0b7ecd57",
   "metadata": {},
   "outputs": [],
   "source": []
  },
  {
   "cell_type": "code",
   "execution_count": null,
   "id": "78e4ace8",
   "metadata": {},
   "outputs": [],
   "source": []
  }
 ],
 "metadata": {
  "kernelspec": {
   "display_name": "Python 3 (ipykernel)",
   "language": "python",
   "name": "python3"
  },
  "language_info": {
   "codemirror_mode": {
    "name": "ipython",
    "version": 3
   },
   "file_extension": ".py",
   "mimetype": "text/x-python",
   "name": "python",
   "nbconvert_exporter": "python",
   "pygments_lexer": "ipython3",
   "version": "3.9.13"
  }
 },
 "nbformat": 4,
 "nbformat_minor": 5
}
