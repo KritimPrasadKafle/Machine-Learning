{
 "cells": [
  {
   "cell_type": "code",
   "execution_count": 1,
   "id": "d93b664a-cef4-4796-969b-098fdeb787b5",
   "metadata": {},
   "outputs": [
    {
     "name": "stdout",
     "output_type": "stream",
     "text": [
      "4\n"
     ]
    }
   ],
   "source": [
    "def square(x):\n",
    "    return x**2\n",
    "s = square(2)\n",
    "print(s)"
   ]
  },
  {
   "cell_type": "code",
   "execution_count": 3,
   "id": "26f57e98-6f4b-41cb-9b4d-ed84f05ba415",
   "metadata": {},
   "outputs": [
    {
     "name": "stdout",
     "output_type": "stream",
     "text": [
      "4\n"
     ]
    }
   ],
   "source": [
    "square_lambda = lambda x: x**2\n",
    "print(square_lambda(2))"
   ]
  },
  {
   "cell_type": "code",
   "execution_count": 10,
   "id": "fdcf8ae8-784b-4464-8f4e-f2712652c131",
   "metadata": {},
   "outputs": [
    {
     "name": "stdout",
     "output_type": "stream",
     "text": [
      "[1, 4, 9, 16, 25]\n"
     ]
    }
   ],
   "source": [
    "numbers = [1,2,3,4,5]\n",
    "squared = list(map(lambda x: x**2, numbers))\n",
    "print(squared)"
   ]
  },
  {
   "cell_type": "code",
   "execution_count": 15,
   "id": "9ca57255-ca35-4465-ac15-faca456bc5cf",
   "metadata": {},
   "outputs": [
    {
     "name": "stdout",
     "output_type": "stream",
     "text": [
      "[1, 4, 9, 16, 25, 36]\n"
     ]
    }
   ],
   "source": [
    "ff = [1,2,3,4,5,6]\n",
    "s = []\n",
    "for i in ff:\n",
    "    s.append(i**2)\n",
    "print(s)\n",
    "    "
   ]
  },
  {
   "cell_type": "code",
   "execution_count": 11,
   "id": "5c81e389-ef43-4eca-87a8-f9da68df9af9",
   "metadata": {},
   "outputs": [
    {
     "name": "stdout",
     "output_type": "stream",
     "text": [
      "[2, 4]\n"
     ]
    }
   ],
   "source": [
    "evens = list(filter(lambda x: x%2 == 0, numbers))\n",
    "print(evens)"
   ]
  },
  {
   "cell_type": "code",
   "execution_count": 12,
   "id": "61a19734-ee85-4f2f-9e4c-11df710337a9",
   "metadata": {},
   "outputs": [
    {
     "name": "stdout",
     "output_type": "stream",
     "text": [
      "[('Charlie', 78), ('Alice', 85), ('Bob', 90)]\n"
     ]
    }
   ],
   "source": [
    "students = [('Alice',85),('Bob', 90), ('Charlie', 78)]\n",
    "students_by_grade = sorted(students, key = lambda student: student[1])\n",
    "print(students_by_grade)"
   ]
  },
  {
   "cell_type": "code",
   "execution_count": 17,
   "id": "59bd10bf-7bf5-4c31-9e83-fd95f15bf9d9",
   "metadata": {},
   "outputs": [
    {
     "name": "stdout",
     "output_type": "stream",
     "text": [
      "[2, 4, 6, 8, 32, 34, 54, 68]\n"
     ]
    }
   ],
   "source": [
    "g = [1, 2, 4, 5, 6, 7, 8, 23, 32, 34, 54,57,68]\n",
    "gg = []\n",
    "for i in g:\n",
    "    if i % 2 == 0:\n",
    "       gg.append(i)\n",
    "print(gg)"
   ]
  },
  {
   "cell_type": "code",
   "execution_count": 18,
   "id": "2cdcba69-6ff3-4a8e-8698-e660df6c1efa",
   "metadata": {},
   "outputs": [
    {
     "name": "stdout",
     "output_type": "stream",
     "text": [
      "[2, 4, 6, 8, 32, 34, 54, 68]\n"
     ]
    }
   ],
   "source": [
    "ss = list(filter(lambda x: x%2 == 0, g))\n",
    "print(ss)"
   ]
  },
  {
   "cell_type": "code",
   "execution_count": null,
   "id": "14a2f110-b01b-4cf1-879d-f75375ac1b14",
   "metadata": {},
   "outputs": [],
   "source": []
  }
 ],
 "metadata": {
  "kernelspec": {
   "display_name": "Python 3 (ipykernel)",
   "language": "python",
   "name": "python3"
  },
  "language_info": {
   "codemirror_mode": {
    "name": "ipython",
    "version": 3
   },
   "file_extension": ".py",
   "mimetype": "text/x-python",
   "name": "python",
   "nbconvert_exporter": "python",
   "pygments_lexer": "ipython3",
   "version": "3.12.7"
  }
 },
 "nbformat": 4,
 "nbformat_minor": 5
}
